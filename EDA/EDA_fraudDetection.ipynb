{
  "nbformat": 4,
  "nbformat_minor": 0,
  "metadata": {
    "kernelspec": {
      "display_name": "Python 3",
      "language": "python",
      "name": "python3"
    },
    "language_info": {
      "codemirror_mode": {
        "name": "ipython",
        "version": 3
      },
      "file_extension": ".py",
      "mimetype": "text/x-python",
      "name": "python",
      "nbconvert_exporter": "python",
      "pygments_lexer": "ipython3",
      "version": "3.8.3"
    },
    "colab": {
      "name": "EDA_fraudDetection.ipynb",
      "provenance": []
    }
  },
  "cells": [
    {
      "cell_type": "code",
      "metadata": {
        "id": "0u7V4wR5jAB5",
        "colab_type": "code",
        "colab": {}
      },
      "source": [
        "# neccessary imports\n",
        "import pandas as pd\n",
        "import numpy as np"
      ],
      "execution_count": 1,
      "outputs": []
    },
    {
      "cell_type": "code",
      "metadata": {
        "id": "Q0-K3ZrgjAB_",
        "colab_type": "code",
        "colab": {}
      },
      "source": [
        "# reading the data\n",
        "data=pd.read_csv('insuranceFraud.csv')"
      ],
      "execution_count": 2,
      "outputs": []
    },
    {
      "cell_type": "code",
      "metadata": {
        "id": "_yu5rN6njACC",
        "colab_type": "code",
        "colab": {
          "base_uri": "https://localhost:8080/",
          "height": 282
        },
        "outputId": "f9c2d360-53c4-418d-b446-529ace87c9a1"
      },
      "source": [
        "# Having a look at the data\n",
        "data.head()"
      ],
      "execution_count": 3,
      "outputs": [
        {
          "output_type": "execute_result",
          "data": {
            "text/html": [
              "<div>\n",
              "<style scoped>\n",
              "    .dataframe tbody tr th:only-of-type {\n",
              "        vertical-align: middle;\n",
              "    }\n",
              "\n",
              "    .dataframe tbody tr th {\n",
              "        vertical-align: top;\n",
              "    }\n",
              "\n",
              "    .dataframe thead th {\n",
              "        text-align: right;\n",
              "    }\n",
              "</style>\n",
              "<table border=\"1\" class=\"dataframe\">\n",
              "  <thead>\n",
              "    <tr style=\"text-align: right;\">\n",
              "      <th></th>\n",
              "      <th>months_as_customer</th>\n",
              "      <th>age</th>\n",
              "      <th>policy_number</th>\n",
              "      <th>policy_bind_date</th>\n",
              "      <th>policy_state</th>\n",
              "      <th>policy_csl</th>\n",
              "      <th>policy_deductable</th>\n",
              "      <th>policy_annual_premium</th>\n",
              "      <th>umbrella_limit</th>\n",
              "      <th>insured_zip</th>\n",
              "      <th>insured_sex</th>\n",
              "      <th>insured_education_level</th>\n",
              "      <th>insured_occupation</th>\n",
              "      <th>insured_hobbies</th>\n",
              "      <th>insured_relationship</th>\n",
              "      <th>capital-gains</th>\n",
              "      <th>capital-loss</th>\n",
              "      <th>incident_date</th>\n",
              "      <th>incident_type</th>\n",
              "      <th>collision_type</th>\n",
              "      <th>incident_severity</th>\n",
              "      <th>authorities_contacted</th>\n",
              "      <th>incident_state</th>\n",
              "      <th>incident_city</th>\n",
              "      <th>incident_location</th>\n",
              "      <th>incident_hour_of_the_day</th>\n",
              "      <th>number_of_vehicles_involved</th>\n",
              "      <th>property_damage</th>\n",
              "      <th>bodily_injuries</th>\n",
              "      <th>witnesses</th>\n",
              "      <th>police_report_available</th>\n",
              "      <th>total_claim_amount</th>\n",
              "      <th>injury_claim</th>\n",
              "      <th>property_claim</th>\n",
              "      <th>vehicle_claim</th>\n",
              "      <th>auto_make</th>\n",
              "      <th>auto_model</th>\n",
              "      <th>auto_year</th>\n",
              "      <th>fraud_reported</th>\n",
              "    </tr>\n",
              "  </thead>\n",
              "  <tbody>\n",
              "    <tr>\n",
              "      <th>0</th>\n",
              "      <td>328</td>\n",
              "      <td>48</td>\n",
              "      <td>521585</td>\n",
              "      <td>10/17/2014</td>\n",
              "      <td>OH</td>\n",
              "      <td>250/500</td>\n",
              "      <td>1000</td>\n",
              "      <td>1406.91</td>\n",
              "      <td>0</td>\n",
              "      <td>466132</td>\n",
              "      <td>MALE</td>\n",
              "      <td>MD</td>\n",
              "      <td>craft-repair</td>\n",
              "      <td>sleeping</td>\n",
              "      <td>husband</td>\n",
              "      <td>53300</td>\n",
              "      <td>0</td>\n",
              "      <td>1/25/2015</td>\n",
              "      <td>Single Vehicle Collision</td>\n",
              "      <td>Side Collision</td>\n",
              "      <td>Major Damage</td>\n",
              "      <td>Police</td>\n",
              "      <td>SC</td>\n",
              "      <td>Columbus</td>\n",
              "      <td>9935 4th Drive</td>\n",
              "      <td>5</td>\n",
              "      <td>1</td>\n",
              "      <td>YES</td>\n",
              "      <td>1</td>\n",
              "      <td>2</td>\n",
              "      <td>YES</td>\n",
              "      <td>71610</td>\n",
              "      <td>6510</td>\n",
              "      <td>13020</td>\n",
              "      <td>52080</td>\n",
              "      <td>Saab</td>\n",
              "      <td>92x</td>\n",
              "      <td>2004</td>\n",
              "      <td>Y</td>\n",
              "    </tr>\n",
              "    <tr>\n",
              "      <th>1</th>\n",
              "      <td>228</td>\n",
              "      <td>42</td>\n",
              "      <td>342868</td>\n",
              "      <td>6/27/2006</td>\n",
              "      <td>IN</td>\n",
              "      <td>250/500</td>\n",
              "      <td>2000</td>\n",
              "      <td>1197.22</td>\n",
              "      <td>5000000</td>\n",
              "      <td>468176</td>\n",
              "      <td>MALE</td>\n",
              "      <td>MD</td>\n",
              "      <td>machine-op-inspct</td>\n",
              "      <td>reading</td>\n",
              "      <td>other-relative</td>\n",
              "      <td>0</td>\n",
              "      <td>0</td>\n",
              "      <td>1/21/2015</td>\n",
              "      <td>Vehicle Theft</td>\n",
              "      <td>?</td>\n",
              "      <td>Minor Damage</td>\n",
              "      <td>Police</td>\n",
              "      <td>VA</td>\n",
              "      <td>Riverwood</td>\n",
              "      <td>6608 MLK Hwy</td>\n",
              "      <td>8</td>\n",
              "      <td>1</td>\n",
              "      <td>?</td>\n",
              "      <td>0</td>\n",
              "      <td>0</td>\n",
              "      <td>?</td>\n",
              "      <td>5070</td>\n",
              "      <td>780</td>\n",
              "      <td>780</td>\n",
              "      <td>3510</td>\n",
              "      <td>Mercedes</td>\n",
              "      <td>E400</td>\n",
              "      <td>2007</td>\n",
              "      <td>Y</td>\n",
              "    </tr>\n",
              "    <tr>\n",
              "      <th>2</th>\n",
              "      <td>134</td>\n",
              "      <td>29</td>\n",
              "      <td>687698</td>\n",
              "      <td>9/6/2000</td>\n",
              "      <td>OH</td>\n",
              "      <td>100/300</td>\n",
              "      <td>2000</td>\n",
              "      <td>1413.14</td>\n",
              "      <td>5000000</td>\n",
              "      <td>430632</td>\n",
              "      <td>FEMALE</td>\n",
              "      <td>PhD</td>\n",
              "      <td>sales</td>\n",
              "      <td>board-games</td>\n",
              "      <td>own-child</td>\n",
              "      <td>35100</td>\n",
              "      <td>0</td>\n",
              "      <td>2/22/2015</td>\n",
              "      <td>Multi-vehicle Collision</td>\n",
              "      <td>Rear Collision</td>\n",
              "      <td>Minor Damage</td>\n",
              "      <td>Police</td>\n",
              "      <td>NY</td>\n",
              "      <td>Columbus</td>\n",
              "      <td>7121 Francis Lane</td>\n",
              "      <td>7</td>\n",
              "      <td>3</td>\n",
              "      <td>NO</td>\n",
              "      <td>2</td>\n",
              "      <td>3</td>\n",
              "      <td>NO</td>\n",
              "      <td>34650</td>\n",
              "      <td>7700</td>\n",
              "      <td>3850</td>\n",
              "      <td>23100</td>\n",
              "      <td>Dodge</td>\n",
              "      <td>RAM</td>\n",
              "      <td>2007</td>\n",
              "      <td>N</td>\n",
              "    </tr>\n",
              "    <tr>\n",
              "      <th>3</th>\n",
              "      <td>256</td>\n",
              "      <td>41</td>\n",
              "      <td>227811</td>\n",
              "      <td>5/25/1990</td>\n",
              "      <td>IL</td>\n",
              "      <td>250/500</td>\n",
              "      <td>2000</td>\n",
              "      <td>1415.74</td>\n",
              "      <td>6000000</td>\n",
              "      <td>608117</td>\n",
              "      <td>FEMALE</td>\n",
              "      <td>PhD</td>\n",
              "      <td>armed-forces</td>\n",
              "      <td>board-games</td>\n",
              "      <td>unmarried</td>\n",
              "      <td>48900</td>\n",
              "      <td>-62400</td>\n",
              "      <td>1/10/2015</td>\n",
              "      <td>Single Vehicle Collision</td>\n",
              "      <td>Front Collision</td>\n",
              "      <td>Major Damage</td>\n",
              "      <td>Police</td>\n",
              "      <td>OH</td>\n",
              "      <td>Arlington</td>\n",
              "      <td>6956 Maple Drive</td>\n",
              "      <td>5</td>\n",
              "      <td>1</td>\n",
              "      <td>?</td>\n",
              "      <td>1</td>\n",
              "      <td>2</td>\n",
              "      <td>NO</td>\n",
              "      <td>63400</td>\n",
              "      <td>6340</td>\n",
              "      <td>6340</td>\n",
              "      <td>50720</td>\n",
              "      <td>Chevrolet</td>\n",
              "      <td>Tahoe</td>\n",
              "      <td>2014</td>\n",
              "      <td>Y</td>\n",
              "    </tr>\n",
              "    <tr>\n",
              "      <th>4</th>\n",
              "      <td>228</td>\n",
              "      <td>44</td>\n",
              "      <td>367455</td>\n",
              "      <td>6/6/2014</td>\n",
              "      <td>IL</td>\n",
              "      <td>500/1000</td>\n",
              "      <td>1000</td>\n",
              "      <td>1583.91</td>\n",
              "      <td>6000000</td>\n",
              "      <td>610706</td>\n",
              "      <td>MALE</td>\n",
              "      <td>Associate</td>\n",
              "      <td>sales</td>\n",
              "      <td>board-games</td>\n",
              "      <td>unmarried</td>\n",
              "      <td>66000</td>\n",
              "      <td>-46000</td>\n",
              "      <td>2/17/2015</td>\n",
              "      <td>Vehicle Theft</td>\n",
              "      <td>?</td>\n",
              "      <td>Minor Damage</td>\n",
              "      <td>None</td>\n",
              "      <td>NY</td>\n",
              "      <td>Arlington</td>\n",
              "      <td>3041 3rd Ave</td>\n",
              "      <td>20</td>\n",
              "      <td>1</td>\n",
              "      <td>NO</td>\n",
              "      <td>0</td>\n",
              "      <td>1</td>\n",
              "      <td>NO</td>\n",
              "      <td>6500</td>\n",
              "      <td>1300</td>\n",
              "      <td>650</td>\n",
              "      <td>4550</td>\n",
              "      <td>Accura</td>\n",
              "      <td>RSX</td>\n",
              "      <td>2009</td>\n",
              "      <td>N</td>\n",
              "    </tr>\n",
              "  </tbody>\n",
              "</table>\n",
              "</div>"
            ],
            "text/plain": [
              "   months_as_customer  age  policy_number  ... auto_model auto_year fraud_reported\n",
              "0                 328   48         521585  ...        92x      2004              Y\n",
              "1                 228   42         342868  ...       E400      2007              Y\n",
              "2                 134   29         687698  ...        RAM      2007              N\n",
              "3                 256   41         227811  ...      Tahoe      2014              Y\n",
              "4                 228   44         367455  ...        RSX      2009              N\n",
              "\n",
              "[5 rows x 39 columns]"
            ]
          },
          "metadata": {
            "tags": []
          },
          "execution_count": 3
        }
      ]
    },
    {
      "cell_type": "code",
      "metadata": {
        "id": "uwdNE6TZjACG",
        "colab_type": "code",
        "colab": {}
      },
      "source": [
        "# In this dataset missing values have been denoted by '?'\n",
        "# we are replacing ? with NaN for them to be imputed down the line.\n",
        "data=data.replace('?',np.nan)"
      ],
      "execution_count": 4,
      "outputs": []
    },
    {
      "cell_type": "code",
      "metadata": {
        "id": "6aMd6OiOjACI",
        "colab_type": "code",
        "colab": {}
      },
      "source": [
        "# list of columns not necessary for pfrediction\n",
        "cols_to_drop=['policy_number','policy_bind_date','policy_state','insured_zip','incident_location','incident_date','incident_state','incident_city','insured_hobbies','auto_make','auto_model','auto_year']"
      ],
      "execution_count": 5,
      "outputs": []
    },
    {
      "cell_type": "code",
      "metadata": {
        "id": "duse7x0IjACL",
        "colab_type": "code",
        "colab": {}
      },
      "source": [
        "# dropping the unnecessary columns\n",
        "data.drop(columns=cols_to_drop,inplace=True)"
      ],
      "execution_count": 6,
      "outputs": []
    },
    {
      "cell_type": "code",
      "metadata": {
        "id": "yFf7wgaxjACN",
        "colab_type": "code",
        "colab": {
          "base_uri": "https://localhost:8080/",
          "height": 282
        },
        "outputId": "a3601c96-bc04-403d-93e5-653b48534873"
      },
      "source": [
        "# checking the data after dropping the columns\n",
        "data.head()"
      ],
      "execution_count": 7,
      "outputs": [
        {
          "output_type": "execute_result",
          "data": {
            "text/html": [
              "<div>\n",
              "<style scoped>\n",
              "    .dataframe tbody tr th:only-of-type {\n",
              "        vertical-align: middle;\n",
              "    }\n",
              "\n",
              "    .dataframe tbody tr th {\n",
              "        vertical-align: top;\n",
              "    }\n",
              "\n",
              "    .dataframe thead th {\n",
              "        text-align: right;\n",
              "    }\n",
              "</style>\n",
              "<table border=\"1\" class=\"dataframe\">\n",
              "  <thead>\n",
              "    <tr style=\"text-align: right;\">\n",
              "      <th></th>\n",
              "      <th>months_as_customer</th>\n",
              "      <th>age</th>\n",
              "      <th>policy_csl</th>\n",
              "      <th>policy_deductable</th>\n",
              "      <th>policy_annual_premium</th>\n",
              "      <th>umbrella_limit</th>\n",
              "      <th>insured_sex</th>\n",
              "      <th>insured_education_level</th>\n",
              "      <th>insured_occupation</th>\n",
              "      <th>insured_relationship</th>\n",
              "      <th>capital-gains</th>\n",
              "      <th>capital-loss</th>\n",
              "      <th>incident_type</th>\n",
              "      <th>collision_type</th>\n",
              "      <th>incident_severity</th>\n",
              "      <th>authorities_contacted</th>\n",
              "      <th>incident_hour_of_the_day</th>\n",
              "      <th>number_of_vehicles_involved</th>\n",
              "      <th>property_damage</th>\n",
              "      <th>bodily_injuries</th>\n",
              "      <th>witnesses</th>\n",
              "      <th>police_report_available</th>\n",
              "      <th>total_claim_amount</th>\n",
              "      <th>injury_claim</th>\n",
              "      <th>property_claim</th>\n",
              "      <th>vehicle_claim</th>\n",
              "      <th>fraud_reported</th>\n",
              "    </tr>\n",
              "  </thead>\n",
              "  <tbody>\n",
              "    <tr>\n",
              "      <th>0</th>\n",
              "      <td>328</td>\n",
              "      <td>48</td>\n",
              "      <td>250/500</td>\n",
              "      <td>1000</td>\n",
              "      <td>1406.91</td>\n",
              "      <td>0</td>\n",
              "      <td>MALE</td>\n",
              "      <td>MD</td>\n",
              "      <td>craft-repair</td>\n",
              "      <td>husband</td>\n",
              "      <td>53300</td>\n",
              "      <td>0</td>\n",
              "      <td>Single Vehicle Collision</td>\n",
              "      <td>Side Collision</td>\n",
              "      <td>Major Damage</td>\n",
              "      <td>Police</td>\n",
              "      <td>5</td>\n",
              "      <td>1</td>\n",
              "      <td>YES</td>\n",
              "      <td>1</td>\n",
              "      <td>2</td>\n",
              "      <td>YES</td>\n",
              "      <td>71610</td>\n",
              "      <td>6510</td>\n",
              "      <td>13020</td>\n",
              "      <td>52080</td>\n",
              "      <td>Y</td>\n",
              "    </tr>\n",
              "    <tr>\n",
              "      <th>1</th>\n",
              "      <td>228</td>\n",
              "      <td>42</td>\n",
              "      <td>250/500</td>\n",
              "      <td>2000</td>\n",
              "      <td>1197.22</td>\n",
              "      <td>5000000</td>\n",
              "      <td>MALE</td>\n",
              "      <td>MD</td>\n",
              "      <td>machine-op-inspct</td>\n",
              "      <td>other-relative</td>\n",
              "      <td>0</td>\n",
              "      <td>0</td>\n",
              "      <td>Vehicle Theft</td>\n",
              "      <td>NaN</td>\n",
              "      <td>Minor Damage</td>\n",
              "      <td>Police</td>\n",
              "      <td>8</td>\n",
              "      <td>1</td>\n",
              "      <td>NaN</td>\n",
              "      <td>0</td>\n",
              "      <td>0</td>\n",
              "      <td>NaN</td>\n",
              "      <td>5070</td>\n",
              "      <td>780</td>\n",
              "      <td>780</td>\n",
              "      <td>3510</td>\n",
              "      <td>Y</td>\n",
              "    </tr>\n",
              "    <tr>\n",
              "      <th>2</th>\n",
              "      <td>134</td>\n",
              "      <td>29</td>\n",
              "      <td>100/300</td>\n",
              "      <td>2000</td>\n",
              "      <td>1413.14</td>\n",
              "      <td>5000000</td>\n",
              "      <td>FEMALE</td>\n",
              "      <td>PhD</td>\n",
              "      <td>sales</td>\n",
              "      <td>own-child</td>\n",
              "      <td>35100</td>\n",
              "      <td>0</td>\n",
              "      <td>Multi-vehicle Collision</td>\n",
              "      <td>Rear Collision</td>\n",
              "      <td>Minor Damage</td>\n",
              "      <td>Police</td>\n",
              "      <td>7</td>\n",
              "      <td>3</td>\n",
              "      <td>NO</td>\n",
              "      <td>2</td>\n",
              "      <td>3</td>\n",
              "      <td>NO</td>\n",
              "      <td>34650</td>\n",
              "      <td>7700</td>\n",
              "      <td>3850</td>\n",
              "      <td>23100</td>\n",
              "      <td>N</td>\n",
              "    </tr>\n",
              "    <tr>\n",
              "      <th>3</th>\n",
              "      <td>256</td>\n",
              "      <td>41</td>\n",
              "      <td>250/500</td>\n",
              "      <td>2000</td>\n",
              "      <td>1415.74</td>\n",
              "      <td>6000000</td>\n",
              "      <td>FEMALE</td>\n",
              "      <td>PhD</td>\n",
              "      <td>armed-forces</td>\n",
              "      <td>unmarried</td>\n",
              "      <td>48900</td>\n",
              "      <td>-62400</td>\n",
              "      <td>Single Vehicle Collision</td>\n",
              "      <td>Front Collision</td>\n",
              "      <td>Major Damage</td>\n",
              "      <td>Police</td>\n",
              "      <td>5</td>\n",
              "      <td>1</td>\n",
              "      <td>NaN</td>\n",
              "      <td>1</td>\n",
              "      <td>2</td>\n",
              "      <td>NO</td>\n",
              "      <td>63400</td>\n",
              "      <td>6340</td>\n",
              "      <td>6340</td>\n",
              "      <td>50720</td>\n",
              "      <td>Y</td>\n",
              "    </tr>\n",
              "    <tr>\n",
              "      <th>4</th>\n",
              "      <td>228</td>\n",
              "      <td>44</td>\n",
              "      <td>500/1000</td>\n",
              "      <td>1000</td>\n",
              "      <td>1583.91</td>\n",
              "      <td>6000000</td>\n",
              "      <td>MALE</td>\n",
              "      <td>Associate</td>\n",
              "      <td>sales</td>\n",
              "      <td>unmarried</td>\n",
              "      <td>66000</td>\n",
              "      <td>-46000</td>\n",
              "      <td>Vehicle Theft</td>\n",
              "      <td>NaN</td>\n",
              "      <td>Minor Damage</td>\n",
              "      <td>None</td>\n",
              "      <td>20</td>\n",
              "      <td>1</td>\n",
              "      <td>NO</td>\n",
              "      <td>0</td>\n",
              "      <td>1</td>\n",
              "      <td>NO</td>\n",
              "      <td>6500</td>\n",
              "      <td>1300</td>\n",
              "      <td>650</td>\n",
              "      <td>4550</td>\n",
              "      <td>N</td>\n",
              "    </tr>\n",
              "  </tbody>\n",
              "</table>\n",
              "</div>"
            ],
            "text/plain": [
              "   months_as_customer  age  ... vehicle_claim  fraud_reported\n",
              "0                 328   48  ...         52080               Y\n",
              "1                 228   42  ...          3510               Y\n",
              "2                 134   29  ...         23100               N\n",
              "3                 256   41  ...         50720               Y\n",
              "4                 228   44  ...          4550               N\n",
              "\n",
              "[5 rows x 27 columns]"
            ]
          },
          "metadata": {
            "tags": []
          },
          "execution_count": 7
        }
      ]
    },
    {
      "cell_type": "code",
      "metadata": {
        "id": "7Dv8zywcjACQ",
        "colab_type": "code",
        "colab": {
          "base_uri": "https://localhost:8080/",
          "height": 487
        },
        "outputId": "8ba3d19f-e2ef-4b37-8a37-38090631a333"
      },
      "source": [
        "# checking for missing values\n",
        "data.isna().sum()"
      ],
      "execution_count": 8,
      "outputs": [
        {
          "output_type": "execute_result",
          "data": {
            "text/plain": [
              "months_as_customer               0\n",
              "age                              0\n",
              "policy_csl                       0\n",
              "policy_deductable                0\n",
              "policy_annual_premium            0\n",
              "umbrella_limit                   0\n",
              "insured_sex                      0\n",
              "insured_education_level          0\n",
              "insured_occupation               0\n",
              "insured_relationship             0\n",
              "capital-gains                    0\n",
              "capital-loss                     0\n",
              "incident_type                    0\n",
              "collision_type                 178\n",
              "incident_severity                0\n",
              "authorities_contacted            0\n",
              "incident_hour_of_the_day         0\n",
              "number_of_vehicles_involved      0\n",
              "property_damage                360\n",
              "bodily_injuries                  0\n",
              "witnesses                        0\n",
              "police_report_available        343\n",
              "total_claim_amount               0\n",
              "injury_claim                     0\n",
              "property_claim                   0\n",
              "vehicle_claim                    0\n",
              "fraud_reported                   0\n",
              "dtype: int64"
            ]
          },
          "metadata": {
            "tags": []
          },
          "execution_count": 8
        }
      ]
    },
    {
      "cell_type": "code",
      "metadata": {
        "id": "_aIPj0zDjACU",
        "colab_type": "code",
        "colab": {
          "base_uri": "https://localhost:8080/",
          "height": 588
        },
        "outputId": "0105065d-b49a-4073-a3a7-a6278f9280da"
      },
      "source": [
        "# checking for th number of categorical and numerical columns\n",
        "data.info()"
      ],
      "execution_count": 9,
      "outputs": [
        {
          "output_type": "stream",
          "text": [
            "<class 'pandas.core.frame.DataFrame'>\n",
            "RangeIndex: 1000 entries, 0 to 999\n",
            "Data columns (total 27 columns):\n",
            " #   Column                       Non-Null Count  Dtype  \n",
            "---  ------                       --------------  -----  \n",
            " 0   months_as_customer           1000 non-null   int64  \n",
            " 1   age                          1000 non-null   int64  \n",
            " 2   policy_csl                   1000 non-null   object \n",
            " 3   policy_deductable            1000 non-null   int64  \n",
            " 4   policy_annual_premium        1000 non-null   float64\n",
            " 5   umbrella_limit               1000 non-null   int64  \n",
            " 6   insured_sex                  1000 non-null   object \n",
            " 7   insured_education_level      1000 non-null   object \n",
            " 8   insured_occupation           1000 non-null   object \n",
            " 9   insured_relationship         1000 non-null   object \n",
            " 10  capital-gains                1000 non-null   int64  \n",
            " 11  capital-loss                 1000 non-null   int64  \n",
            " 12  incident_type                1000 non-null   object \n",
            " 13  collision_type               822 non-null    object \n",
            " 14  incident_severity            1000 non-null   object \n",
            " 15  authorities_contacted        1000 non-null   object \n",
            " 16  incident_hour_of_the_day     1000 non-null   int64  \n",
            " 17  number_of_vehicles_involved  1000 non-null   int64  \n",
            " 18  property_damage              640 non-null    object \n",
            " 19  bodily_injuries              1000 non-null   int64  \n",
            " 20  witnesses                    1000 non-null   int64  \n",
            " 21  police_report_available      657 non-null    object \n",
            " 22  total_claim_amount           1000 non-null   int64  \n",
            " 23  injury_claim                 1000 non-null   int64  \n",
            " 24  property_claim               1000 non-null   int64  \n",
            " 25  vehicle_claim                1000 non-null   int64  \n",
            " 26  fraud_reported               1000 non-null   object \n",
            "dtypes: float64(1), int64(14), object(12)\n",
            "memory usage: 211.1+ KB\n"
          ],
          "name": "stdout"
        }
      ]
    },
    {
      "cell_type": "code",
      "metadata": {
        "id": "xb0vEBE8jACX",
        "colab_type": "code",
        "colab": {}
      },
      "source": [
        "# As the columns which have missing values, they are only categorical, we'll use the categorical imputer\n",
        "# Importing the categorical imputer\n",
        "from sklearn_pandas import CategoricalImputer\n",
        "imputer = CategoricalImputer()"
      ],
      "execution_count": 10,
      "outputs": []
    },
    {
      "cell_type": "code",
      "metadata": {
        "id": "P28Rq5-GjACZ",
        "colab_type": "code",
        "colab": {}
      },
      "source": [
        "# imputing the missing values from the column\n",
        "\n",
        "data['collision_type']=imputer.fit_transform(data['collision_type'])\n",
        "data['property_damage']=imputer.fit_transform(data['property_damage'])\n",
        "data['police_report_available']=imputer.fit_transform(data['police_report_available'])"
      ],
      "execution_count": 11,
      "outputs": []
    },
    {
      "cell_type": "code",
      "metadata": {
        "id": "DSW40xYljACc",
        "colab_type": "code",
        "colab": {}
      },
      "source": [
        "# Extracting the categorical columns\n",
        "cat_df = data.select_dtypes(include=['object']).copy()"
      ],
      "execution_count": 12,
      "outputs": []
    },
    {
      "cell_type": "code",
      "metadata": {
        "id": "gAfRXAaVjACf",
        "colab_type": "code",
        "colab": {
          "base_uri": "https://localhost:8080/",
          "height": 101
        },
        "outputId": "1f55efd7-98e8-4cb9-a9b1-f6c824491565"
      },
      "source": [
        "cat_df.columns"
      ],
      "execution_count": 13,
      "outputs": [
        {
          "output_type": "execute_result",
          "data": {
            "text/plain": [
              "Index(['policy_csl', 'insured_sex', 'insured_education_level',\n",
              "       'insured_occupation', 'insured_relationship', 'incident_type',\n",
              "       'collision_type', 'incident_severity', 'authorities_contacted',\n",
              "       'property_damage', 'police_report_available', 'fraud_reported'],\n",
              "      dtype='object')"
            ]
          },
          "metadata": {
            "tags": []
          },
          "execution_count": 13
        }
      ]
    },
    {
      "cell_type": "code",
      "metadata": {
        "scrolled": true,
        "id": "pyAskQmvjACh",
        "colab_type": "code",
        "colab": {
          "base_uri": "https://localhost:8080/",
          "height": 266
        },
        "outputId": "4b5699b4-f744-490c-cf70-70d77c6c8b39"
      },
      "source": [
        "cat_df.head()"
      ],
      "execution_count": 14,
      "outputs": [
        {
          "output_type": "execute_result",
          "data": {
            "text/html": [
              "<div>\n",
              "<style scoped>\n",
              "    .dataframe tbody tr th:only-of-type {\n",
              "        vertical-align: middle;\n",
              "    }\n",
              "\n",
              "    .dataframe tbody tr th {\n",
              "        vertical-align: top;\n",
              "    }\n",
              "\n",
              "    .dataframe thead th {\n",
              "        text-align: right;\n",
              "    }\n",
              "</style>\n",
              "<table border=\"1\" class=\"dataframe\">\n",
              "  <thead>\n",
              "    <tr style=\"text-align: right;\">\n",
              "      <th></th>\n",
              "      <th>policy_csl</th>\n",
              "      <th>insured_sex</th>\n",
              "      <th>insured_education_level</th>\n",
              "      <th>insured_occupation</th>\n",
              "      <th>insured_relationship</th>\n",
              "      <th>incident_type</th>\n",
              "      <th>collision_type</th>\n",
              "      <th>incident_severity</th>\n",
              "      <th>authorities_contacted</th>\n",
              "      <th>property_damage</th>\n",
              "      <th>police_report_available</th>\n",
              "      <th>fraud_reported</th>\n",
              "    </tr>\n",
              "  </thead>\n",
              "  <tbody>\n",
              "    <tr>\n",
              "      <th>0</th>\n",
              "      <td>250/500</td>\n",
              "      <td>MALE</td>\n",
              "      <td>MD</td>\n",
              "      <td>craft-repair</td>\n",
              "      <td>husband</td>\n",
              "      <td>Single Vehicle Collision</td>\n",
              "      <td>Side Collision</td>\n",
              "      <td>Major Damage</td>\n",
              "      <td>Police</td>\n",
              "      <td>YES</td>\n",
              "      <td>YES</td>\n",
              "      <td>Y</td>\n",
              "    </tr>\n",
              "    <tr>\n",
              "      <th>1</th>\n",
              "      <td>250/500</td>\n",
              "      <td>MALE</td>\n",
              "      <td>MD</td>\n",
              "      <td>machine-op-inspct</td>\n",
              "      <td>other-relative</td>\n",
              "      <td>Vehicle Theft</td>\n",
              "      <td>Rear Collision</td>\n",
              "      <td>Minor Damage</td>\n",
              "      <td>Police</td>\n",
              "      <td>NO</td>\n",
              "      <td>NO</td>\n",
              "      <td>Y</td>\n",
              "    </tr>\n",
              "    <tr>\n",
              "      <th>2</th>\n",
              "      <td>100/300</td>\n",
              "      <td>FEMALE</td>\n",
              "      <td>PhD</td>\n",
              "      <td>sales</td>\n",
              "      <td>own-child</td>\n",
              "      <td>Multi-vehicle Collision</td>\n",
              "      <td>Rear Collision</td>\n",
              "      <td>Minor Damage</td>\n",
              "      <td>Police</td>\n",
              "      <td>NO</td>\n",
              "      <td>NO</td>\n",
              "      <td>N</td>\n",
              "    </tr>\n",
              "    <tr>\n",
              "      <th>3</th>\n",
              "      <td>250/500</td>\n",
              "      <td>FEMALE</td>\n",
              "      <td>PhD</td>\n",
              "      <td>armed-forces</td>\n",
              "      <td>unmarried</td>\n",
              "      <td>Single Vehicle Collision</td>\n",
              "      <td>Front Collision</td>\n",
              "      <td>Major Damage</td>\n",
              "      <td>Police</td>\n",
              "      <td>NO</td>\n",
              "      <td>NO</td>\n",
              "      <td>Y</td>\n",
              "    </tr>\n",
              "    <tr>\n",
              "      <th>4</th>\n",
              "      <td>500/1000</td>\n",
              "      <td>MALE</td>\n",
              "      <td>Associate</td>\n",
              "      <td>sales</td>\n",
              "      <td>unmarried</td>\n",
              "      <td>Vehicle Theft</td>\n",
              "      <td>Rear Collision</td>\n",
              "      <td>Minor Damage</td>\n",
              "      <td>None</td>\n",
              "      <td>NO</td>\n",
              "      <td>NO</td>\n",
              "      <td>N</td>\n",
              "    </tr>\n",
              "  </tbody>\n",
              "</table>\n",
              "</div>"
            ],
            "text/plain": [
              "  policy_csl insured_sex  ... police_report_available fraud_reported\n",
              "0    250/500        MALE  ...                     YES              Y\n",
              "1    250/500        MALE  ...                      NO              Y\n",
              "2    100/300      FEMALE  ...                      NO              N\n",
              "3    250/500      FEMALE  ...                      NO              Y\n",
              "4   500/1000        MALE  ...                      NO              N\n",
              "\n",
              "[5 rows x 12 columns]"
            ]
          },
          "metadata": {
            "tags": []
          },
          "execution_count": 14
        }
      ]
    },
    {
      "cell_type": "markdown",
      "metadata": {
        "id": "zqA3ALcZjACk",
        "colab_type": "text"
      },
      "source": [
        "Checking the categorical values present in the columns to decide for getDummies encode or custom mapping to convert categorical data to numeric one"
      ]
    },
    {
      "cell_type": "code",
      "metadata": {
        "id": "PlUClzO3jACl",
        "colab_type": "code",
        "colab": {
          "base_uri": "https://localhost:8080/",
          "height": 101
        },
        "outputId": "15a2e6a3-7012-40f2-bf6a-ab54dba2681b"
      },
      "source": [
        "cat_df.columns"
      ],
      "execution_count": 15,
      "outputs": [
        {
          "output_type": "execute_result",
          "data": {
            "text/plain": [
              "Index(['policy_csl', 'insured_sex', 'insured_education_level',\n",
              "       'insured_occupation', 'insured_relationship', 'incident_type',\n",
              "       'collision_type', 'incident_severity', 'authorities_contacted',\n",
              "       'property_damage', 'police_report_available', 'fraud_reported'],\n",
              "      dtype='object')"
            ]
          },
          "metadata": {
            "tags": []
          },
          "execution_count": 15
        }
      ]
    },
    {
      "cell_type": "code",
      "metadata": {
        "id": "oVZfPpj-jACo",
        "colab_type": "code",
        "colab": {
          "base_uri": "https://localhost:8080/",
          "height": 34
        },
        "outputId": "9eb925af-b6fc-42fd-9fc6-69003bf1cada"
      },
      "source": [
        "cat_df['policy_csl'].unique()"
      ],
      "execution_count": 16,
      "outputs": [
        {
          "output_type": "execute_result",
          "data": {
            "text/plain": [
              "array(['250/500', '100/300', '500/1000'], dtype=object)"
            ]
          },
          "metadata": {
            "tags": []
          },
          "execution_count": 16
        }
      ]
    },
    {
      "cell_type": "code",
      "metadata": {
        "id": "h_VwHCPOjACr",
        "colab_type": "code",
        "colab": {
          "base_uri": "https://localhost:8080/",
          "height": 50
        },
        "outputId": "12203fc5-8a08-4ce7-d1e2-aca6a50277d8"
      },
      "source": [
        "cat_df['insured_education_level'].unique()"
      ],
      "execution_count": 17,
      "outputs": [
        {
          "output_type": "execute_result",
          "data": {
            "text/plain": [
              "array(['MD', 'PhD', 'Associate', 'Masters', 'High School', 'College',\n",
              "       'JD'], dtype=object)"
            ]
          },
          "metadata": {
            "tags": []
          },
          "execution_count": 17
        }
      ]
    },
    {
      "cell_type": "code",
      "metadata": {
        "id": "lf0SBl1RjACu",
        "colab_type": "code",
        "colab": {
          "base_uri": "https://localhost:8080/",
          "height": 50
        },
        "outputId": "0f76c0cc-fe7d-4eec-985a-725ed371ec86"
      },
      "source": [
        "cat_df['incident_severity'].unique()"
      ],
      "execution_count": 18,
      "outputs": [
        {
          "output_type": "execute_result",
          "data": {
            "text/plain": [
              "array(['Major Damage', 'Minor Damage', 'Total Loss', 'Trivial Damage'],\n",
              "      dtype=object)"
            ]
          },
          "metadata": {
            "tags": []
          },
          "execution_count": 18
        }
      ]
    },
    {
      "cell_type": "code",
      "metadata": {
        "id": "-Mj-O9IMjACx",
        "colab_type": "code",
        "colab": {
          "base_uri": "https://localhost:8080/",
          "height": 34
        },
        "outputId": "62d898aa-7066-4119-e7e6-51de530dce50"
      },
      "source": [
        "cat_df['property_damage'].unique()"
      ],
      "execution_count": 21,
      "outputs": [
        {
          "output_type": "execute_result",
          "data": {
            "text/plain": [
              "array([1, 0])"
            ]
          },
          "metadata": {
            "tags": []
          },
          "execution_count": 21
        }
      ]
    },
    {
      "cell_type": "code",
      "metadata": {
        "id": "D0Y50OXKjACz",
        "colab_type": "code",
        "colab": {}
      },
      "source": [
        "# custom mapping for encoding\n",
        "cat_df['policy_csl'] = cat_df['policy_csl'].map({'100/300' : 1, '250/500' : 2.5 ,'500/1000':5})\n",
        "cat_df['insured_education_level'] = cat_df['insured_education_level'].map({'JD' : 1, 'High School' : 2,'College':3,'Masters':4,'Associate':5,'MD':6,'PhD':7})\n",
        "cat_df['incident_severity'] = cat_df['incident_severity'].map({'Trivial Damage' : 1, 'Minor Damage' : 2,'Major Damage':3,'Total Loss':4})\n",
        "cat_df['insured_sex'] = cat_df['insured_sex'].map({'FEMALE' : 0, 'MALE' : 1})\n",
        "cat_df['property_damage'] = cat_df['property_damage'].map({'NO' : 0, 'YES' : 1})\n",
        "cat_df['police_report_available'] = cat_df['police_report_available'].map({'NO' : 0, 'YES' : 1})\n",
        "cat_df['fraud_reported'] = cat_df['fraud_reported'].map({'N' : 0, 'Y' : 1})"
      ],
      "execution_count": 20,
      "outputs": []
    },
    {
      "cell_type": "code",
      "metadata": {
        "id": "o8DRnhlwjAC1",
        "colab_type": "code",
        "colab": {}
      },
      "source": [
        "# auto encoding of categorical variables\n",
        "for col in cat_df.drop(columns=['policy_csl','insured_education_level','incident_severity','insured_sex','property_damage','police_report_available','fraud_reported']).columns:\n",
        "    cat_df= pd.get_dummies(cat_df, columns=[col], prefix = [col], drop_first=True)"
      ],
      "execution_count": 22,
      "outputs": []
    },
    {
      "cell_type": "code",
      "metadata": {
        "id": "j1_I7FWYjAC3",
        "colab_type": "code",
        "colab": {
          "base_uri": "https://localhost:8080/",
          "height": 232
        },
        "outputId": "e8202b5a-b66b-4cff-9a53-3216dcae9bc0"
      },
      "source": [
        "# data fter encoding\n",
        "cat_df.head()"
      ],
      "execution_count": 23,
      "outputs": [
        {
          "output_type": "execute_result",
          "data": {
            "text/html": [
              "<div>\n",
              "<style scoped>\n",
              "    .dataframe tbody tr th:only-of-type {\n",
              "        vertical-align: middle;\n",
              "    }\n",
              "\n",
              "    .dataframe tbody tr th {\n",
              "        vertical-align: top;\n",
              "    }\n",
              "\n",
              "    .dataframe thead th {\n",
              "        text-align: right;\n",
              "    }\n",
              "</style>\n",
              "<table border=\"1\" class=\"dataframe\">\n",
              "  <thead>\n",
              "    <tr style=\"text-align: right;\">\n",
              "      <th></th>\n",
              "      <th>policy_csl</th>\n",
              "      <th>insured_sex</th>\n",
              "      <th>insured_education_level</th>\n",
              "      <th>incident_severity</th>\n",
              "      <th>property_damage</th>\n",
              "      <th>police_report_available</th>\n",
              "      <th>fraud_reported</th>\n",
              "      <th>insured_occupation_armed-forces</th>\n",
              "      <th>insured_occupation_craft-repair</th>\n",
              "      <th>insured_occupation_exec-managerial</th>\n",
              "      <th>insured_occupation_farming-fishing</th>\n",
              "      <th>insured_occupation_handlers-cleaners</th>\n",
              "      <th>insured_occupation_machine-op-inspct</th>\n",
              "      <th>insured_occupation_other-service</th>\n",
              "      <th>insured_occupation_priv-house-serv</th>\n",
              "      <th>insured_occupation_prof-specialty</th>\n",
              "      <th>insured_occupation_protective-serv</th>\n",
              "      <th>insured_occupation_sales</th>\n",
              "      <th>insured_occupation_tech-support</th>\n",
              "      <th>insured_occupation_transport-moving</th>\n",
              "      <th>insured_relationship_not-in-family</th>\n",
              "      <th>insured_relationship_other-relative</th>\n",
              "      <th>insured_relationship_own-child</th>\n",
              "      <th>insured_relationship_unmarried</th>\n",
              "      <th>insured_relationship_wife</th>\n",
              "      <th>incident_type_Parked Car</th>\n",
              "      <th>incident_type_Single Vehicle Collision</th>\n",
              "      <th>incident_type_Vehicle Theft</th>\n",
              "      <th>collision_type_Rear Collision</th>\n",
              "      <th>collision_type_Side Collision</th>\n",
              "      <th>authorities_contacted_Fire</th>\n",
              "      <th>authorities_contacted_None</th>\n",
              "      <th>authorities_contacted_Other</th>\n",
              "      <th>authorities_contacted_Police</th>\n",
              "    </tr>\n",
              "  </thead>\n",
              "  <tbody>\n",
              "    <tr>\n",
              "      <th>0</th>\n",
              "      <td>2.5</td>\n",
              "      <td>1</td>\n",
              "      <td>6</td>\n",
              "      <td>3</td>\n",
              "      <td>1</td>\n",
              "      <td>1</td>\n",
              "      <td>1</td>\n",
              "      <td>0</td>\n",
              "      <td>1</td>\n",
              "      <td>0</td>\n",
              "      <td>0</td>\n",
              "      <td>0</td>\n",
              "      <td>0</td>\n",
              "      <td>0</td>\n",
              "      <td>0</td>\n",
              "      <td>0</td>\n",
              "      <td>0</td>\n",
              "      <td>0</td>\n",
              "      <td>0</td>\n",
              "      <td>0</td>\n",
              "      <td>0</td>\n",
              "      <td>0</td>\n",
              "      <td>0</td>\n",
              "      <td>0</td>\n",
              "      <td>0</td>\n",
              "      <td>0</td>\n",
              "      <td>1</td>\n",
              "      <td>0</td>\n",
              "      <td>0</td>\n",
              "      <td>1</td>\n",
              "      <td>0</td>\n",
              "      <td>0</td>\n",
              "      <td>0</td>\n",
              "      <td>1</td>\n",
              "    </tr>\n",
              "    <tr>\n",
              "      <th>1</th>\n",
              "      <td>2.5</td>\n",
              "      <td>1</td>\n",
              "      <td>6</td>\n",
              "      <td>2</td>\n",
              "      <td>0</td>\n",
              "      <td>0</td>\n",
              "      <td>1</td>\n",
              "      <td>0</td>\n",
              "      <td>0</td>\n",
              "      <td>0</td>\n",
              "      <td>0</td>\n",
              "      <td>0</td>\n",
              "      <td>1</td>\n",
              "      <td>0</td>\n",
              "      <td>0</td>\n",
              "      <td>0</td>\n",
              "      <td>0</td>\n",
              "      <td>0</td>\n",
              "      <td>0</td>\n",
              "      <td>0</td>\n",
              "      <td>0</td>\n",
              "      <td>1</td>\n",
              "      <td>0</td>\n",
              "      <td>0</td>\n",
              "      <td>0</td>\n",
              "      <td>0</td>\n",
              "      <td>0</td>\n",
              "      <td>1</td>\n",
              "      <td>1</td>\n",
              "      <td>0</td>\n",
              "      <td>0</td>\n",
              "      <td>0</td>\n",
              "      <td>0</td>\n",
              "      <td>1</td>\n",
              "    </tr>\n",
              "    <tr>\n",
              "      <th>2</th>\n",
              "      <td>1.0</td>\n",
              "      <td>0</td>\n",
              "      <td>7</td>\n",
              "      <td>2</td>\n",
              "      <td>0</td>\n",
              "      <td>0</td>\n",
              "      <td>0</td>\n",
              "      <td>0</td>\n",
              "      <td>0</td>\n",
              "      <td>0</td>\n",
              "      <td>0</td>\n",
              "      <td>0</td>\n",
              "      <td>0</td>\n",
              "      <td>0</td>\n",
              "      <td>0</td>\n",
              "      <td>0</td>\n",
              "      <td>0</td>\n",
              "      <td>1</td>\n",
              "      <td>0</td>\n",
              "      <td>0</td>\n",
              "      <td>0</td>\n",
              "      <td>0</td>\n",
              "      <td>1</td>\n",
              "      <td>0</td>\n",
              "      <td>0</td>\n",
              "      <td>0</td>\n",
              "      <td>0</td>\n",
              "      <td>0</td>\n",
              "      <td>1</td>\n",
              "      <td>0</td>\n",
              "      <td>0</td>\n",
              "      <td>0</td>\n",
              "      <td>0</td>\n",
              "      <td>1</td>\n",
              "    </tr>\n",
              "    <tr>\n",
              "      <th>3</th>\n",
              "      <td>2.5</td>\n",
              "      <td>0</td>\n",
              "      <td>7</td>\n",
              "      <td>3</td>\n",
              "      <td>0</td>\n",
              "      <td>0</td>\n",
              "      <td>1</td>\n",
              "      <td>1</td>\n",
              "      <td>0</td>\n",
              "      <td>0</td>\n",
              "      <td>0</td>\n",
              "      <td>0</td>\n",
              "      <td>0</td>\n",
              "      <td>0</td>\n",
              "      <td>0</td>\n",
              "      <td>0</td>\n",
              "      <td>0</td>\n",
              "      <td>0</td>\n",
              "      <td>0</td>\n",
              "      <td>0</td>\n",
              "      <td>0</td>\n",
              "      <td>0</td>\n",
              "      <td>0</td>\n",
              "      <td>1</td>\n",
              "      <td>0</td>\n",
              "      <td>0</td>\n",
              "      <td>1</td>\n",
              "      <td>0</td>\n",
              "      <td>0</td>\n",
              "      <td>0</td>\n",
              "      <td>0</td>\n",
              "      <td>0</td>\n",
              "      <td>0</td>\n",
              "      <td>1</td>\n",
              "    </tr>\n",
              "    <tr>\n",
              "      <th>4</th>\n",
              "      <td>5.0</td>\n",
              "      <td>1</td>\n",
              "      <td>5</td>\n",
              "      <td>2</td>\n",
              "      <td>0</td>\n",
              "      <td>0</td>\n",
              "      <td>0</td>\n",
              "      <td>0</td>\n",
              "      <td>0</td>\n",
              "      <td>0</td>\n",
              "      <td>0</td>\n",
              "      <td>0</td>\n",
              "      <td>0</td>\n",
              "      <td>0</td>\n",
              "      <td>0</td>\n",
              "      <td>0</td>\n",
              "      <td>0</td>\n",
              "      <td>1</td>\n",
              "      <td>0</td>\n",
              "      <td>0</td>\n",
              "      <td>0</td>\n",
              "      <td>0</td>\n",
              "      <td>0</td>\n",
              "      <td>1</td>\n",
              "      <td>0</td>\n",
              "      <td>0</td>\n",
              "      <td>0</td>\n",
              "      <td>1</td>\n",
              "      <td>1</td>\n",
              "      <td>0</td>\n",
              "      <td>0</td>\n",
              "      <td>1</td>\n",
              "      <td>0</td>\n",
              "      <td>0</td>\n",
              "    </tr>\n",
              "  </tbody>\n",
              "</table>\n",
              "</div>"
            ],
            "text/plain": [
              "   policy_csl  ...  authorities_contacted_Police\n",
              "0         2.5  ...                             1\n",
              "1         2.5  ...                             1\n",
              "2         1.0  ...                             1\n",
              "3         2.5  ...                             1\n",
              "4         5.0  ...                             0\n",
              "\n",
              "[5 rows x 34 columns]"
            ]
          },
          "metadata": {
            "tags": []
          },
          "execution_count": 23
        }
      ]
    },
    {
      "cell_type": "code",
      "metadata": {
        "id": "Y6FL_faljAC5",
        "colab_type": "code",
        "colab": {}
      },
      "source": [
        "# extracting the numerical columns\n",
        "num_df = data.select_dtypes(include=['int64']).copy()"
      ],
      "execution_count": 24,
      "outputs": []
    },
    {
      "cell_type": "code",
      "metadata": {
        "id": "knP2RNhmjAC7",
        "colab_type": "code",
        "colab": {
          "base_uri": "https://localhost:8080/",
          "height": 118
        },
        "outputId": "d9bb0066-747b-4932-a3a8-0441e7ae473f"
      },
      "source": [
        "num_df.columns"
      ],
      "execution_count": 25,
      "outputs": [
        {
          "output_type": "execute_result",
          "data": {
            "text/plain": [
              "Index(['months_as_customer', 'age', 'policy_deductable', 'umbrella_limit',\n",
              "       'capital-gains', 'capital-loss', 'incident_hour_of_the_day',\n",
              "       'number_of_vehicles_involved', 'bodily_injuries', 'witnesses',\n",
              "       'total_claim_amount', 'injury_claim', 'property_claim',\n",
              "       'vehicle_claim'],\n",
              "      dtype='object')"
            ]
          },
          "metadata": {
            "tags": []
          },
          "execution_count": 25
        }
      ]
    },
    {
      "cell_type": "code",
      "metadata": {
        "id": "U6nGTmHHjAC-",
        "colab_type": "code",
        "colab": {
          "base_uri": "https://localhost:8080/",
          "height": 232
        },
        "outputId": "bc6a6075-9ffc-4631-831f-326bbd4d3c4d"
      },
      "source": [
        "num_df.head()"
      ],
      "execution_count": 26,
      "outputs": [
        {
          "output_type": "execute_result",
          "data": {
            "text/html": [
              "<div>\n",
              "<style scoped>\n",
              "    .dataframe tbody tr th:only-of-type {\n",
              "        vertical-align: middle;\n",
              "    }\n",
              "\n",
              "    .dataframe tbody tr th {\n",
              "        vertical-align: top;\n",
              "    }\n",
              "\n",
              "    .dataframe thead th {\n",
              "        text-align: right;\n",
              "    }\n",
              "</style>\n",
              "<table border=\"1\" class=\"dataframe\">\n",
              "  <thead>\n",
              "    <tr style=\"text-align: right;\">\n",
              "      <th></th>\n",
              "      <th>months_as_customer</th>\n",
              "      <th>age</th>\n",
              "      <th>policy_deductable</th>\n",
              "      <th>umbrella_limit</th>\n",
              "      <th>capital-gains</th>\n",
              "      <th>capital-loss</th>\n",
              "      <th>incident_hour_of_the_day</th>\n",
              "      <th>number_of_vehicles_involved</th>\n",
              "      <th>bodily_injuries</th>\n",
              "      <th>witnesses</th>\n",
              "      <th>total_claim_amount</th>\n",
              "      <th>injury_claim</th>\n",
              "      <th>property_claim</th>\n",
              "      <th>vehicle_claim</th>\n",
              "    </tr>\n",
              "  </thead>\n",
              "  <tbody>\n",
              "    <tr>\n",
              "      <th>0</th>\n",
              "      <td>328</td>\n",
              "      <td>48</td>\n",
              "      <td>1000</td>\n",
              "      <td>0</td>\n",
              "      <td>53300</td>\n",
              "      <td>0</td>\n",
              "      <td>5</td>\n",
              "      <td>1</td>\n",
              "      <td>1</td>\n",
              "      <td>2</td>\n",
              "      <td>71610</td>\n",
              "      <td>6510</td>\n",
              "      <td>13020</td>\n",
              "      <td>52080</td>\n",
              "    </tr>\n",
              "    <tr>\n",
              "      <th>1</th>\n",
              "      <td>228</td>\n",
              "      <td>42</td>\n",
              "      <td>2000</td>\n",
              "      <td>5000000</td>\n",
              "      <td>0</td>\n",
              "      <td>0</td>\n",
              "      <td>8</td>\n",
              "      <td>1</td>\n",
              "      <td>0</td>\n",
              "      <td>0</td>\n",
              "      <td>5070</td>\n",
              "      <td>780</td>\n",
              "      <td>780</td>\n",
              "      <td>3510</td>\n",
              "    </tr>\n",
              "    <tr>\n",
              "      <th>2</th>\n",
              "      <td>134</td>\n",
              "      <td>29</td>\n",
              "      <td>2000</td>\n",
              "      <td>5000000</td>\n",
              "      <td>35100</td>\n",
              "      <td>0</td>\n",
              "      <td>7</td>\n",
              "      <td>3</td>\n",
              "      <td>2</td>\n",
              "      <td>3</td>\n",
              "      <td>34650</td>\n",
              "      <td>7700</td>\n",
              "      <td>3850</td>\n",
              "      <td>23100</td>\n",
              "    </tr>\n",
              "    <tr>\n",
              "      <th>3</th>\n",
              "      <td>256</td>\n",
              "      <td>41</td>\n",
              "      <td>2000</td>\n",
              "      <td>6000000</td>\n",
              "      <td>48900</td>\n",
              "      <td>-62400</td>\n",
              "      <td>5</td>\n",
              "      <td>1</td>\n",
              "      <td>1</td>\n",
              "      <td>2</td>\n",
              "      <td>63400</td>\n",
              "      <td>6340</td>\n",
              "      <td>6340</td>\n",
              "      <td>50720</td>\n",
              "    </tr>\n",
              "    <tr>\n",
              "      <th>4</th>\n",
              "      <td>228</td>\n",
              "      <td>44</td>\n",
              "      <td>1000</td>\n",
              "      <td>6000000</td>\n",
              "      <td>66000</td>\n",
              "      <td>-46000</td>\n",
              "      <td>20</td>\n",
              "      <td>1</td>\n",
              "      <td>0</td>\n",
              "      <td>1</td>\n",
              "      <td>6500</td>\n",
              "      <td>1300</td>\n",
              "      <td>650</td>\n",
              "      <td>4550</td>\n",
              "    </tr>\n",
              "  </tbody>\n",
              "</table>\n",
              "</div>"
            ],
            "text/plain": [
              "   months_as_customer  age  ...  property_claim  vehicle_claim\n",
              "0                 328   48  ...           13020          52080\n",
              "1                 228   42  ...             780           3510\n",
              "2                 134   29  ...            3850          23100\n",
              "3                 256   41  ...            6340          50720\n",
              "4                 228   44  ...             650           4550\n",
              "\n",
              "[5 rows x 14 columns]"
            ]
          },
          "metadata": {
            "tags": []
          },
          "execution_count": 26
        }
      ]
    },
    {
      "cell_type": "code",
      "metadata": {
        "id": "MKeUxHiajADA",
        "colab_type": "code",
        "colab": {}
      },
      "source": [
        "# combining the Numerical and categorical dataframes to get the final dataset\n",
        "final_df=pd.concat([num_df,cat_df], axis=1)"
      ],
      "execution_count": 27,
      "outputs": []
    },
    {
      "cell_type": "code",
      "metadata": {
        "id": "-us_-c4tjADC",
        "colab_type": "code",
        "colab": {
          "base_uri": "https://localhost:8080/",
          "height": 232
        },
        "outputId": "a6b6da26-6a01-4169-80cc-1831412ab2b2"
      },
      "source": [
        "final_df.head()"
      ],
      "execution_count": 28,
      "outputs": [
        {
          "output_type": "execute_result",
          "data": {
            "text/html": [
              "<div>\n",
              "<style scoped>\n",
              "    .dataframe tbody tr th:only-of-type {\n",
              "        vertical-align: middle;\n",
              "    }\n",
              "\n",
              "    .dataframe tbody tr th {\n",
              "        vertical-align: top;\n",
              "    }\n",
              "\n",
              "    .dataframe thead th {\n",
              "        text-align: right;\n",
              "    }\n",
              "</style>\n",
              "<table border=\"1\" class=\"dataframe\">\n",
              "  <thead>\n",
              "    <tr style=\"text-align: right;\">\n",
              "      <th></th>\n",
              "      <th>months_as_customer</th>\n",
              "      <th>age</th>\n",
              "      <th>policy_deductable</th>\n",
              "      <th>umbrella_limit</th>\n",
              "      <th>capital-gains</th>\n",
              "      <th>capital-loss</th>\n",
              "      <th>incident_hour_of_the_day</th>\n",
              "      <th>number_of_vehicles_involved</th>\n",
              "      <th>bodily_injuries</th>\n",
              "      <th>witnesses</th>\n",
              "      <th>total_claim_amount</th>\n",
              "      <th>injury_claim</th>\n",
              "      <th>property_claim</th>\n",
              "      <th>vehicle_claim</th>\n",
              "      <th>policy_csl</th>\n",
              "      <th>insured_sex</th>\n",
              "      <th>insured_education_level</th>\n",
              "      <th>incident_severity</th>\n",
              "      <th>property_damage</th>\n",
              "      <th>police_report_available</th>\n",
              "      <th>fraud_reported</th>\n",
              "      <th>insured_occupation_armed-forces</th>\n",
              "      <th>insured_occupation_craft-repair</th>\n",
              "      <th>insured_occupation_exec-managerial</th>\n",
              "      <th>insured_occupation_farming-fishing</th>\n",
              "      <th>insured_occupation_handlers-cleaners</th>\n",
              "      <th>insured_occupation_machine-op-inspct</th>\n",
              "      <th>insured_occupation_other-service</th>\n",
              "      <th>insured_occupation_priv-house-serv</th>\n",
              "      <th>insured_occupation_prof-specialty</th>\n",
              "      <th>insured_occupation_protective-serv</th>\n",
              "      <th>insured_occupation_sales</th>\n",
              "      <th>insured_occupation_tech-support</th>\n",
              "      <th>insured_occupation_transport-moving</th>\n",
              "      <th>insured_relationship_not-in-family</th>\n",
              "      <th>insured_relationship_other-relative</th>\n",
              "      <th>insured_relationship_own-child</th>\n",
              "      <th>insured_relationship_unmarried</th>\n",
              "      <th>insured_relationship_wife</th>\n",
              "      <th>incident_type_Parked Car</th>\n",
              "      <th>incident_type_Single Vehicle Collision</th>\n",
              "      <th>incident_type_Vehicle Theft</th>\n",
              "      <th>collision_type_Rear Collision</th>\n",
              "      <th>collision_type_Side Collision</th>\n",
              "      <th>authorities_contacted_Fire</th>\n",
              "      <th>authorities_contacted_None</th>\n",
              "      <th>authorities_contacted_Other</th>\n",
              "      <th>authorities_contacted_Police</th>\n",
              "    </tr>\n",
              "  </thead>\n",
              "  <tbody>\n",
              "    <tr>\n",
              "      <th>0</th>\n",
              "      <td>328</td>\n",
              "      <td>48</td>\n",
              "      <td>1000</td>\n",
              "      <td>0</td>\n",
              "      <td>53300</td>\n",
              "      <td>0</td>\n",
              "      <td>5</td>\n",
              "      <td>1</td>\n",
              "      <td>1</td>\n",
              "      <td>2</td>\n",
              "      <td>71610</td>\n",
              "      <td>6510</td>\n",
              "      <td>13020</td>\n",
              "      <td>52080</td>\n",
              "      <td>2.5</td>\n",
              "      <td>1</td>\n",
              "      <td>6</td>\n",
              "      <td>3</td>\n",
              "      <td>1</td>\n",
              "      <td>1</td>\n",
              "      <td>1</td>\n",
              "      <td>0</td>\n",
              "      <td>1</td>\n",
              "      <td>0</td>\n",
              "      <td>0</td>\n",
              "      <td>0</td>\n",
              "      <td>0</td>\n",
              "      <td>0</td>\n",
              "      <td>0</td>\n",
              "      <td>0</td>\n",
              "      <td>0</td>\n",
              "      <td>0</td>\n",
              "      <td>0</td>\n",
              "      <td>0</td>\n",
              "      <td>0</td>\n",
              "      <td>0</td>\n",
              "      <td>0</td>\n",
              "      <td>0</td>\n",
              "      <td>0</td>\n",
              "      <td>0</td>\n",
              "      <td>1</td>\n",
              "      <td>0</td>\n",
              "      <td>0</td>\n",
              "      <td>1</td>\n",
              "      <td>0</td>\n",
              "      <td>0</td>\n",
              "      <td>0</td>\n",
              "      <td>1</td>\n",
              "    </tr>\n",
              "    <tr>\n",
              "      <th>1</th>\n",
              "      <td>228</td>\n",
              "      <td>42</td>\n",
              "      <td>2000</td>\n",
              "      <td>5000000</td>\n",
              "      <td>0</td>\n",
              "      <td>0</td>\n",
              "      <td>8</td>\n",
              "      <td>1</td>\n",
              "      <td>0</td>\n",
              "      <td>0</td>\n",
              "      <td>5070</td>\n",
              "      <td>780</td>\n",
              "      <td>780</td>\n",
              "      <td>3510</td>\n",
              "      <td>2.5</td>\n",
              "      <td>1</td>\n",
              "      <td>6</td>\n",
              "      <td>2</td>\n",
              "      <td>0</td>\n",
              "      <td>0</td>\n",
              "      <td>1</td>\n",
              "      <td>0</td>\n",
              "      <td>0</td>\n",
              "      <td>0</td>\n",
              "      <td>0</td>\n",
              "      <td>0</td>\n",
              "      <td>1</td>\n",
              "      <td>0</td>\n",
              "      <td>0</td>\n",
              "      <td>0</td>\n",
              "      <td>0</td>\n",
              "      <td>0</td>\n",
              "      <td>0</td>\n",
              "      <td>0</td>\n",
              "      <td>0</td>\n",
              "      <td>1</td>\n",
              "      <td>0</td>\n",
              "      <td>0</td>\n",
              "      <td>0</td>\n",
              "      <td>0</td>\n",
              "      <td>0</td>\n",
              "      <td>1</td>\n",
              "      <td>1</td>\n",
              "      <td>0</td>\n",
              "      <td>0</td>\n",
              "      <td>0</td>\n",
              "      <td>0</td>\n",
              "      <td>1</td>\n",
              "    </tr>\n",
              "    <tr>\n",
              "      <th>2</th>\n",
              "      <td>134</td>\n",
              "      <td>29</td>\n",
              "      <td>2000</td>\n",
              "      <td>5000000</td>\n",
              "      <td>35100</td>\n",
              "      <td>0</td>\n",
              "      <td>7</td>\n",
              "      <td>3</td>\n",
              "      <td>2</td>\n",
              "      <td>3</td>\n",
              "      <td>34650</td>\n",
              "      <td>7700</td>\n",
              "      <td>3850</td>\n",
              "      <td>23100</td>\n",
              "      <td>1.0</td>\n",
              "      <td>0</td>\n",
              "      <td>7</td>\n",
              "      <td>2</td>\n",
              "      <td>0</td>\n",
              "      <td>0</td>\n",
              "      <td>0</td>\n",
              "      <td>0</td>\n",
              "      <td>0</td>\n",
              "      <td>0</td>\n",
              "      <td>0</td>\n",
              "      <td>0</td>\n",
              "      <td>0</td>\n",
              "      <td>0</td>\n",
              "      <td>0</td>\n",
              "      <td>0</td>\n",
              "      <td>0</td>\n",
              "      <td>1</td>\n",
              "      <td>0</td>\n",
              "      <td>0</td>\n",
              "      <td>0</td>\n",
              "      <td>0</td>\n",
              "      <td>1</td>\n",
              "      <td>0</td>\n",
              "      <td>0</td>\n",
              "      <td>0</td>\n",
              "      <td>0</td>\n",
              "      <td>0</td>\n",
              "      <td>1</td>\n",
              "      <td>0</td>\n",
              "      <td>0</td>\n",
              "      <td>0</td>\n",
              "      <td>0</td>\n",
              "      <td>1</td>\n",
              "    </tr>\n",
              "    <tr>\n",
              "      <th>3</th>\n",
              "      <td>256</td>\n",
              "      <td>41</td>\n",
              "      <td>2000</td>\n",
              "      <td>6000000</td>\n",
              "      <td>48900</td>\n",
              "      <td>-62400</td>\n",
              "      <td>5</td>\n",
              "      <td>1</td>\n",
              "      <td>1</td>\n",
              "      <td>2</td>\n",
              "      <td>63400</td>\n",
              "      <td>6340</td>\n",
              "      <td>6340</td>\n",
              "      <td>50720</td>\n",
              "      <td>2.5</td>\n",
              "      <td>0</td>\n",
              "      <td>7</td>\n",
              "      <td>3</td>\n",
              "      <td>0</td>\n",
              "      <td>0</td>\n",
              "      <td>1</td>\n",
              "      <td>1</td>\n",
              "      <td>0</td>\n",
              "      <td>0</td>\n",
              "      <td>0</td>\n",
              "      <td>0</td>\n",
              "      <td>0</td>\n",
              "      <td>0</td>\n",
              "      <td>0</td>\n",
              "      <td>0</td>\n",
              "      <td>0</td>\n",
              "      <td>0</td>\n",
              "      <td>0</td>\n",
              "      <td>0</td>\n",
              "      <td>0</td>\n",
              "      <td>0</td>\n",
              "      <td>0</td>\n",
              "      <td>1</td>\n",
              "      <td>0</td>\n",
              "      <td>0</td>\n",
              "      <td>1</td>\n",
              "      <td>0</td>\n",
              "      <td>0</td>\n",
              "      <td>0</td>\n",
              "      <td>0</td>\n",
              "      <td>0</td>\n",
              "      <td>0</td>\n",
              "      <td>1</td>\n",
              "    </tr>\n",
              "    <tr>\n",
              "      <th>4</th>\n",
              "      <td>228</td>\n",
              "      <td>44</td>\n",
              "      <td>1000</td>\n",
              "      <td>6000000</td>\n",
              "      <td>66000</td>\n",
              "      <td>-46000</td>\n",
              "      <td>20</td>\n",
              "      <td>1</td>\n",
              "      <td>0</td>\n",
              "      <td>1</td>\n",
              "      <td>6500</td>\n",
              "      <td>1300</td>\n",
              "      <td>650</td>\n",
              "      <td>4550</td>\n",
              "      <td>5.0</td>\n",
              "      <td>1</td>\n",
              "      <td>5</td>\n",
              "      <td>2</td>\n",
              "      <td>0</td>\n",
              "      <td>0</td>\n",
              "      <td>0</td>\n",
              "      <td>0</td>\n",
              "      <td>0</td>\n",
              "      <td>0</td>\n",
              "      <td>0</td>\n",
              "      <td>0</td>\n",
              "      <td>0</td>\n",
              "      <td>0</td>\n",
              "      <td>0</td>\n",
              "      <td>0</td>\n",
              "      <td>0</td>\n",
              "      <td>1</td>\n",
              "      <td>0</td>\n",
              "      <td>0</td>\n",
              "      <td>0</td>\n",
              "      <td>0</td>\n",
              "      <td>0</td>\n",
              "      <td>1</td>\n",
              "      <td>0</td>\n",
              "      <td>0</td>\n",
              "      <td>0</td>\n",
              "      <td>1</td>\n",
              "      <td>1</td>\n",
              "      <td>0</td>\n",
              "      <td>0</td>\n",
              "      <td>1</td>\n",
              "      <td>0</td>\n",
              "      <td>0</td>\n",
              "    </tr>\n",
              "  </tbody>\n",
              "</table>\n",
              "</div>"
            ],
            "text/plain": [
              "   months_as_customer  ...  authorities_contacted_Police\n",
              "0                 328  ...                             1\n",
              "1                 228  ...                             1\n",
              "2                 134  ...                             1\n",
              "3                 256  ...                             1\n",
              "4                 228  ...                             0\n",
              "\n",
              "[5 rows x 48 columns]"
            ]
          },
          "metadata": {
            "tags": []
          },
          "execution_count": 28
        }
      ]
    },
    {
      "cell_type": "code",
      "metadata": {
        "id": "Zmc_00BrjADE",
        "colab_type": "code",
        "colab": {}
      },
      "source": [
        "# separating the feature and target columns\n",
        "x=final_df.drop('fraud_reported',axis=1)\n",
        "y=final_df['fraud_reported']"
      ],
      "execution_count": 29,
      "outputs": []
    },
    {
      "cell_type": "code",
      "metadata": {
        "id": "aNpJ0zCAjADG",
        "colab_type": "code",
        "colab": {}
      },
      "source": [
        "import matplotlib.pyplot as plt\n",
        "%matplotlib  inline"
      ],
      "execution_count": 30,
      "outputs": []
    },
    {
      "cell_type": "code",
      "metadata": {
        "id": "EGFvvJygjADI",
        "colab_type": "code",
        "colab": {
          "base_uri": "https://localhost:8080/",
          "height": 315
        },
        "outputId": "c192411c-d1e2-4c68-e8ec-46e3e71b31b8"
      },
      "source": [
        "# we'll look at the distribution of data in some columns now\n",
        "plt.hist(final_df['policy_csl'])\n",
        "# we  can see that for almost all categories of CSL the data is uniformly distributed"
      ],
      "execution_count": 31,
      "outputs": [
        {
          "output_type": "execute_result",
          "data": {
            "text/plain": [
              "(array([349.,   0.,   0., 351.,   0.,   0.,   0.,   0.,   0., 300.]),\n",
              " array([1. , 1.4, 1.8, 2.2, 2.6, 3. , 3.4, 3.8, 4.2, 4.6, 5. ]),\n",
              " <a list of 10 Patch objects>)"
            ]
          },
          "metadata": {
            "tags": []
          },
          "execution_count": 31
        },
        {
          "output_type": "display_data",
          "data": {
            "image/png": "[encoded data removed]",
            "text/plain": [
              "<Figure size 432x288 with 1 Axes>"
            ]
          },
          "metadata": {
            "tags": [],
            "needs_background": "light"
          }
        }
      ]
    },
    {
      "cell_type": "code",
      "metadata": {
        "id": "RGKmYdbPjADL",
        "colab_type": "code",
        "colab": {
          "base_uri": "https://localhost:8080/",
          "height": 70
        },
        "outputId": "07bf132e-4803-444e-8532-a6dfb2d03eff"
      },
      "source": [
        "import seaborn as sns"
      ],
      "execution_count": 32,
      "outputs": [
        {
          "output_type": "stream",
          "text": [
            "/usr/local/lib/python3.6/dist-packages/statsmodels/tools/_testing.py:19: FutureWarning: pandas.util.testing is deprecated. Use the functions in the public API at pandas.testing instead.\n",
            "  import pandas.util.testing as tm\n"
          ],
          "name": "stderr"
        }
      ]
    },
    {
      "cell_type": "code",
      "metadata": {
        "id": "IudpoMPnjADN",
        "colab_type": "code",
        "colab": {
          "base_uri": "https://localhost:8080/",
          "height": 297
        },
        "outputId": "90d538b8-0e17-459d-982e-15aecc230f27"
      },
      "source": [
        "sns.distplot(final_df['insured_sex'])\n",
        "# we  can see that for almost all categories of the gender of the insured the data is uniformly distributed"
      ],
      "execution_count": 33,
      "outputs": [
        {
          "output_type": "execute_result",
          "data": {
            "text/plain": [
              "<matplotlib.axes._subplots.AxesSubplot at 0x7ff1fafc7780>"
            ]
          },
          "metadata": {
            "tags": []
          },
          "execution_count": 33
        },
        {
          "output_type": "display_data",
          "data": {
            "image/png": "[encoded data removed]",
            "text/plain": [
              "<Figure size 432x288 with 1 Axes>"
            ]
          },
          "metadata": {
            "tags": [],
            "needs_background": "light"
          }
        }
      ]
    },
    {
      "cell_type": "code",
      "metadata": {
        "id": "nzG5FOGEjADP",
        "colab_type": "code",
        "colab": {
          "base_uri": "https://localhost:8080/",
          "height": 297
        },
        "outputId": "65a34d83-77c7-419d-ec63-5ac0e04bcdc1"
      },
      "source": [
        "sns.distplot(final_df['insured_education_level'])\n",
        "# we  can see that for almost all categories of the education level of the person insured the data is uniformly distributed"
      ],
      "execution_count": 34,
      "outputs": [
        {
          "output_type": "execute_result",
          "data": {
            "text/plain": [
              "<matplotlib.axes._subplots.AxesSubplot at 0x7ff1faf7b9e8>"
            ]
          },
          "metadata": {
            "tags": []
          },
          "execution_count": 34
        },
        {
          "output_type": "display_data",
          "data": {
            "image/png": "[encoded data removed]",
            "text/plain": [
              "<Figure size 432x288 with 1 Axes>"
            ]
          },
          "metadata": {
            "tags": [],
            "needs_background": "light"
          }
        }
      ]
    },
    {
      "cell_type": "code",
      "metadata": {
        "id": "A-mCGFk0jADR",
        "colab_type": "code",
        "colab": {
          "base_uri": "https://localhost:8080/",
          "height": 315
        },
        "outputId": "15ec35d8-f6f2-4844-89f6-beaa36fff9ce"
      },
      "source": [
        "sns.distplot(final_df['incident_severity'])\n",
        "\"\"\"\n",
        "We can see that there are least claims for trivial incidents,\n",
        "most claims for minor incidents,\n",
        "and for major and Total loss incidents the claims are almost equal.\n",
        "\"\"\""
      ],
      "execution_count": 35,
      "outputs": [
        {
          "output_type": "execute_result",
          "data": {
            "application/vnd.google.colaboratory.intrinsic+json": {
              "type": "string"
            },
            "text/plain": [
              "'\\nWe can see that there are least claims for trivial incidents,\\nmost claims for minor incidents,\\nand for major and Total loss incidents the claims are almost equal.\\n'"
            ]
          },
          "metadata": {
            "tags": []
          },
          "execution_count": 35
        },
        {
          "output_type": "display_data",
          "data": {
            "image/png": "[encoded data removed]",
            "text/plain": [
              "<Figure size 432x288 with 1 Axes>"
            ]
          },
          "metadata": {
            "tags": [],
            "needs_background": "light"
          }
        }
      ]
    },
    {
      "cell_type": "code",
      "metadata": {
        "id": "5ivGYMk7jADU",
        "colab_type": "code",
        "colab": {
          "base_uri": "https://localhost:8080/",
          "height": 118
        },
        "outputId": "70d2f08b-7ffb-4387-ed4e-c681892af29f"
      },
      "source": [
        "num_df.columns"
      ],
      "execution_count": 36,
      "outputs": [
        {
          "output_type": "execute_result",
          "data": {
            "text/plain": [
              "Index(['months_as_customer', 'age', 'policy_deductable', 'umbrella_limit',\n",
              "       'capital-gains', 'capital-loss', 'incident_hour_of_the_day',\n",
              "       'number_of_vehicles_involved', 'bodily_injuries', 'witnesses',\n",
              "       'total_claim_amount', 'injury_claim', 'property_claim',\n",
              "       'vehicle_claim'],\n",
              "      dtype='object')"
            ]
          },
          "metadata": {
            "tags": []
          },
          "execution_count": 36
        }
      ]
    },
    {
      "cell_type": "code",
      "metadata": {
        "id": "WSmOyR0FjADW",
        "colab_type": "code",
        "colab": {
          "base_uri": "https://localhost:8080/",
          "height": 315
        },
        "outputId": "63a8ab77-682f-4297-da63-1a54b9252e64"
      },
      "source": [
        "sns.scatterplot(final_df['months_as_customer'],final_df['age'], hue=final_df['fraud_reported'] )\n",
        "\"\"\"\n",
        "from the graph it can be concluded that most of the fraud cases are done by the customers new \n",
        "to the company and that too comparatively younger ones. \n",
        "\"\"\""
      ],
      "execution_count": 37,
      "outputs": [
        {
          "output_type": "execute_result",
          "data": {
            "application/vnd.google.colaboratory.intrinsic+json": {
              "type": "string"
            },
            "text/plain": [
              "'\\nfrom the graph it can be concluded that most of the fraud cases are done by the customers new \\nto the company and that too comparatively younger ones. \\n'"
            ]
          },
          "metadata": {
            "tags": []
          },
          "execution_count": 37
        },
        {
          "output_type": "display_data",
          "data": {
            "image/png": "[encoded data removed]",
            "text/plain": [
              "<Figure size 432x288 with 1 Axes>"
            ]
          },
          "metadata": {
            "tags": [],
            "needs_background": "light"
          }
        }
      ]
    },
    {
      "cell_type": "code",
      "metadata": {
        "id": "ROkM9_YFjADY",
        "colab_type": "code",
        "colab": {
          "base_uri": "https://localhost:8080/",
          "height": 641
        },
        "outputId": "5505d782-d95a-4aad-a1bb-b7d900941e39"
      },
      "source": [
        "plt.figure(figsize=(13,8))\n",
        "sns.heatmap(num_df.corr(), annot=True )"
      ],
      "execution_count": 38,
      "outputs": [
        {
          "output_type": "execute_result",
          "data": {
            "text/plain": [
              "<matplotlib.axes._subplots.AxesSubplot at 0x7ff1faefc8d0>"
            ]
          },
          "metadata": {
            "tags": []
          },
          "execution_count": 38
        },
        {
          "output_type": "display_data",
          "data": {
            "image/png": "[encoded data removed]",
            "text/plain": [
              "<Figure size 936x576 with 2 Axes>"
            ]
          },
          "metadata": {
            "tags": [],
            "needs_background": "light"
          }
        }
      ]
    },
    {
      "cell_type": "markdown",
      "metadata": {
        "id": "UpfXwO4kjADa",
        "colab_type": "text"
      },
      "source": [
        "From the plot above, we can see that there is high correlation between Age and the number of months. we'll drop the age column.\n",
        "Also, there is high correlation between total claim amount, injury claim,vehicle claim, and property claim as total claim is the sum of all others. So, we'll drop the total claim column."
      ]
    },
    {
      "cell_type": "code",
      "metadata": {
        "id": "TWy55IQIjADb",
        "colab_type": "code",
        "colab": {
          "base_uri": "https://localhost:8080/",
          "height": 454
        },
        "outputId": "9ea6a3f1-fa97-4f9e-fea5-6ae158a30616"
      },
      "source": [
        "x.columns"
      ],
      "execution_count": 39,
      "outputs": [
        {
          "output_type": "execute_result",
          "data": {
            "text/plain": [
              "Index(['months_as_customer', 'age', 'policy_deductable', 'umbrella_limit',\n",
              "       'capital-gains', 'capital-loss', 'incident_hour_of_the_day',\n",
              "       'number_of_vehicles_involved', 'bodily_injuries', 'witnesses',\n",
              "       'total_claim_amount', 'injury_claim', 'property_claim', 'vehicle_claim',\n",
              "       'policy_csl', 'insured_sex', 'insured_education_level',\n",
              "       'incident_severity', 'property_damage', 'police_report_available',\n",
              "       'insured_occupation_armed-forces', 'insured_occupation_craft-repair',\n",
              "       'insured_occupation_exec-managerial',\n",
              "       'insured_occupation_farming-fishing',\n",
              "       'insured_occupation_handlers-cleaners',\n",
              "       'insured_occupation_machine-op-inspct',\n",
              "       'insured_occupation_other-service',\n",
              "       'insured_occupation_priv-house-serv',\n",
              "       'insured_occupation_prof-specialty',\n",
              "       'insured_occupation_protective-serv', 'insured_occupation_sales',\n",
              "       'insured_occupation_tech-support',\n",
              "       'insured_occupation_transport-moving',\n",
              "       'insured_relationship_not-in-family',\n",
              "       'insured_relationship_other-relative', 'insured_relationship_own-child',\n",
              "       'insured_relationship_unmarried', 'insured_relationship_wife',\n",
              "       'incident_type_Parked Car', 'incident_type_Single Vehicle Collision',\n",
              "       'incident_type_Vehicle Theft', 'collision_type_Rear Collision',\n",
              "       'collision_type_Side Collision', 'authorities_contacted_Fire',\n",
              "       'authorities_contacted_None', 'authorities_contacted_Other',\n",
              "       'authorities_contacted_Police'],\n",
              "      dtype='object')"
            ]
          },
          "metadata": {
            "tags": []
          },
          "execution_count": 39
        }
      ]
    },
    {
      "cell_type": "code",
      "metadata": {
        "id": "F_2YbymnjADc",
        "colab_type": "code",
        "colab": {}
      },
      "source": [
        "x.drop(columns=['age','total_claim_amount'], inplace=True)"
      ],
      "execution_count": 40,
      "outputs": []
    },
    {
      "cell_type": "code",
      "metadata": {
        "id": "b2cZg1FcjADe",
        "colab_type": "code",
        "colab": {}
      },
      "source": [
        "# splitting the data for model training\n",
        "\n",
        "# splitting the data into training and test set\n",
        "from sklearn.model_selection import train_test_split\n",
        "train_x,test_x,train_y,test_y=train_test_split(x,y, random_state=355 )"
      ],
      "execution_count": 41,
      "outputs": []
    },
    {
      "cell_type": "code",
      "metadata": {
        "id": "goC34Ef6jADh",
        "colab_type": "code",
        "colab": {
          "base_uri": "https://localhost:8080/",
          "height": 232
        },
        "outputId": "f312b00e-c372-4048-9827-569695a574e2"
      },
      "source": [
        "train_x.head()"
      ],
      "execution_count": 42,
      "outputs": [
        {
          "output_type": "execute_result",
          "data": {
            "text/html": [
              "<div>\n",
              "<style scoped>\n",
              "    .dataframe tbody tr th:only-of-type {\n",
              "        vertical-align: middle;\n",
              "    }\n",
              "\n",
              "    .dataframe tbody tr th {\n",
              "        vertical-align: top;\n",
              "    }\n",
              "\n",
              "    .dataframe thead th {\n",
              "        text-align: right;\n",
              "    }\n",
              "</style>\n",
              "<table border=\"1\" class=\"dataframe\">\n",
              "  <thead>\n",
              "    <tr style=\"text-align: right;\">\n",
              "      <th></th>\n",
              "      <th>months_as_customer</th>\n",
              "      <th>policy_deductable</th>\n",
              "      <th>umbrella_limit</th>\n",
              "      <th>capital-gains</th>\n",
              "      <th>capital-loss</th>\n",
              "      <th>incident_hour_of_the_day</th>\n",
              "      <th>number_of_vehicles_involved</th>\n",
              "      <th>bodily_injuries</th>\n",
              "      <th>witnesses</th>\n",
              "      <th>injury_claim</th>\n",
              "      <th>property_claim</th>\n",
              "      <th>vehicle_claim</th>\n",
              "      <th>policy_csl</th>\n",
              "      <th>insured_sex</th>\n",
              "      <th>insured_education_level</th>\n",
              "      <th>incident_severity</th>\n",
              "      <th>property_damage</th>\n",
              "      <th>police_report_available</th>\n",
              "      <th>insured_occupation_armed-forces</th>\n",
              "      <th>insured_occupation_craft-repair</th>\n",
              "      <th>insured_occupation_exec-managerial</th>\n",
              "      <th>insured_occupation_farming-fishing</th>\n",
              "      <th>insured_occupation_handlers-cleaners</th>\n",
              "      <th>insured_occupation_machine-op-inspct</th>\n",
              "      <th>insured_occupation_other-service</th>\n",
              "      <th>insured_occupation_priv-house-serv</th>\n",
              "      <th>insured_occupation_prof-specialty</th>\n",
              "      <th>insured_occupation_protective-serv</th>\n",
              "      <th>insured_occupation_sales</th>\n",
              "      <th>insured_occupation_tech-support</th>\n",
              "      <th>insured_occupation_transport-moving</th>\n",
              "      <th>insured_relationship_not-in-family</th>\n",
              "      <th>insured_relationship_other-relative</th>\n",
              "      <th>insured_relationship_own-child</th>\n",
              "      <th>insured_relationship_unmarried</th>\n",
              "      <th>insured_relationship_wife</th>\n",
              "      <th>incident_type_Parked Car</th>\n",
              "      <th>incident_type_Single Vehicle Collision</th>\n",
              "      <th>incident_type_Vehicle Theft</th>\n",
              "      <th>collision_type_Rear Collision</th>\n",
              "      <th>collision_type_Side Collision</th>\n",
              "      <th>authorities_contacted_Fire</th>\n",
              "      <th>authorities_contacted_None</th>\n",
              "      <th>authorities_contacted_Other</th>\n",
              "      <th>authorities_contacted_Police</th>\n",
              "    </tr>\n",
              "  </thead>\n",
              "  <tbody>\n",
              "    <tr>\n",
              "      <th>65</th>\n",
              "      <td>254</td>\n",
              "      <td>500</td>\n",
              "      <td>0</td>\n",
              "      <td>35700</td>\n",
              "      <td>0</td>\n",
              "      <td>6</td>\n",
              "      <td>3</td>\n",
              "      <td>2</td>\n",
              "      <td>2</td>\n",
              "      <td>13720</td>\n",
              "      <td>6860</td>\n",
              "      <td>61740</td>\n",
              "      <td>1.0</td>\n",
              "      <td>0</td>\n",
              "      <td>6</td>\n",
              "      <td>2</td>\n",
              "      <td>1</td>\n",
              "      <td>0</td>\n",
              "      <td>0</td>\n",
              "      <td>0</td>\n",
              "      <td>1</td>\n",
              "      <td>0</td>\n",
              "      <td>0</td>\n",
              "      <td>0</td>\n",
              "      <td>0</td>\n",
              "      <td>0</td>\n",
              "      <td>0</td>\n",
              "      <td>0</td>\n",
              "      <td>0</td>\n",
              "      <td>0</td>\n",
              "      <td>0</td>\n",
              "      <td>0</td>\n",
              "      <td>1</td>\n",
              "      <td>0</td>\n",
              "      <td>0</td>\n",
              "      <td>0</td>\n",
              "      <td>0</td>\n",
              "      <td>0</td>\n",
              "      <td>0</td>\n",
              "      <td>0</td>\n",
              "      <td>0</td>\n",
              "      <td>0</td>\n",
              "      <td>0</td>\n",
              "      <td>0</td>\n",
              "      <td>0</td>\n",
              "    </tr>\n",
              "    <tr>\n",
              "      <th>244</th>\n",
              "      <td>95</td>\n",
              "      <td>1000</td>\n",
              "      <td>0</td>\n",
              "      <td>0</td>\n",
              "      <td>-70300</td>\n",
              "      <td>3</td>\n",
              "      <td>1</td>\n",
              "      <td>1</td>\n",
              "      <td>2</td>\n",
              "      <td>640</td>\n",
              "      <td>320</td>\n",
              "      <td>2240</td>\n",
              "      <td>2.5</td>\n",
              "      <td>1</td>\n",
              "      <td>5</td>\n",
              "      <td>1</td>\n",
              "      <td>1</td>\n",
              "      <td>0</td>\n",
              "      <td>1</td>\n",
              "      <td>0</td>\n",
              "      <td>0</td>\n",
              "      <td>0</td>\n",
              "      <td>0</td>\n",
              "      <td>0</td>\n",
              "      <td>0</td>\n",
              "      <td>0</td>\n",
              "      <td>0</td>\n",
              "      <td>0</td>\n",
              "      <td>0</td>\n",
              "      <td>0</td>\n",
              "      <td>0</td>\n",
              "      <td>0</td>\n",
              "      <td>1</td>\n",
              "      <td>0</td>\n",
              "      <td>0</td>\n",
              "      <td>0</td>\n",
              "      <td>0</td>\n",
              "      <td>0</td>\n",
              "      <td>1</td>\n",
              "      <td>1</td>\n",
              "      <td>0</td>\n",
              "      <td>0</td>\n",
              "      <td>1</td>\n",
              "      <td>0</td>\n",
              "      <td>0</td>\n",
              "    </tr>\n",
              "    <tr>\n",
              "      <th>595</th>\n",
              "      <td>56</td>\n",
              "      <td>500</td>\n",
              "      <td>0</td>\n",
              "      <td>0</td>\n",
              "      <td>-28800</td>\n",
              "      <td>13</td>\n",
              "      <td>1</td>\n",
              "      <td>1</td>\n",
              "      <td>2</td>\n",
              "      <td>0</td>\n",
              "      <td>6500</td>\n",
              "      <td>52000</td>\n",
              "      <td>1.0</td>\n",
              "      <td>1</td>\n",
              "      <td>1</td>\n",
              "      <td>3</td>\n",
              "      <td>1</td>\n",
              "      <td>1</td>\n",
              "      <td>0</td>\n",
              "      <td>0</td>\n",
              "      <td>0</td>\n",
              "      <td>1</td>\n",
              "      <td>0</td>\n",
              "      <td>0</td>\n",
              "      <td>0</td>\n",
              "      <td>0</td>\n",
              "      <td>0</td>\n",
              "      <td>0</td>\n",
              "      <td>0</td>\n",
              "      <td>0</td>\n",
              "      <td>0</td>\n",
              "      <td>0</td>\n",
              "      <td>0</td>\n",
              "      <td>1</td>\n",
              "      <td>0</td>\n",
              "      <td>0</td>\n",
              "      <td>0</td>\n",
              "      <td>1</td>\n",
              "      <td>0</td>\n",
              "      <td>1</td>\n",
              "      <td>0</td>\n",
              "      <td>0</td>\n",
              "      <td>0</td>\n",
              "      <td>0</td>\n",
              "      <td>1</td>\n",
              "    </tr>\n",
              "    <tr>\n",
              "      <th>873</th>\n",
              "      <td>322</td>\n",
              "      <td>2000</td>\n",
              "      <td>0</td>\n",
              "      <td>0</td>\n",
              "      <td>-46000</td>\n",
              "      <td>18</td>\n",
              "      <td>1</td>\n",
              "      <td>0</td>\n",
              "      <td>2</td>\n",
              "      <td>7680</td>\n",
              "      <td>7680</td>\n",
              "      <td>26880</td>\n",
              "      <td>2.5</td>\n",
              "      <td>0</td>\n",
              "      <td>7</td>\n",
              "      <td>3</td>\n",
              "      <td>0</td>\n",
              "      <td>1</td>\n",
              "      <td>1</td>\n",
              "      <td>0</td>\n",
              "      <td>0</td>\n",
              "      <td>0</td>\n",
              "      <td>0</td>\n",
              "      <td>0</td>\n",
              "      <td>0</td>\n",
              "      <td>0</td>\n",
              "      <td>0</td>\n",
              "      <td>0</td>\n",
              "      <td>0</td>\n",
              "      <td>0</td>\n",
              "      <td>0</td>\n",
              "      <td>0</td>\n",
              "      <td>0</td>\n",
              "      <td>1</td>\n",
              "      <td>0</td>\n",
              "      <td>0</td>\n",
              "      <td>0</td>\n",
              "      <td>1</td>\n",
              "      <td>0</td>\n",
              "      <td>1</td>\n",
              "      <td>0</td>\n",
              "      <td>0</td>\n",
              "      <td>0</td>\n",
              "      <td>0</td>\n",
              "      <td>0</td>\n",
              "    </tr>\n",
              "    <tr>\n",
              "      <th>631</th>\n",
              "      <td>147</td>\n",
              "      <td>1000</td>\n",
              "      <td>6000000</td>\n",
              "      <td>0</td>\n",
              "      <td>-48400</td>\n",
              "      <td>2</td>\n",
              "      <td>2</td>\n",
              "      <td>1</td>\n",
              "      <td>2</td>\n",
              "      <td>9760</td>\n",
              "      <td>4880</td>\n",
              "      <td>39040</td>\n",
              "      <td>5.0</td>\n",
              "      <td>0</td>\n",
              "      <td>5</td>\n",
              "      <td>4</td>\n",
              "      <td>0</td>\n",
              "      <td>0</td>\n",
              "      <td>0</td>\n",
              "      <td>0</td>\n",
              "      <td>0</td>\n",
              "      <td>0</td>\n",
              "      <td>0</td>\n",
              "      <td>0</td>\n",
              "      <td>0</td>\n",
              "      <td>0</td>\n",
              "      <td>1</td>\n",
              "      <td>0</td>\n",
              "      <td>0</td>\n",
              "      <td>0</td>\n",
              "      <td>0</td>\n",
              "      <td>0</td>\n",
              "      <td>0</td>\n",
              "      <td>0</td>\n",
              "      <td>0</td>\n",
              "      <td>0</td>\n",
              "      <td>0</td>\n",
              "      <td>0</td>\n",
              "      <td>0</td>\n",
              "      <td>1</td>\n",
              "      <td>0</td>\n",
              "      <td>0</td>\n",
              "      <td>0</td>\n",
              "      <td>1</td>\n",
              "      <td>0</td>\n",
              "    </tr>\n",
              "  </tbody>\n",
              "</table>\n",
              "</div>"
            ],
            "text/plain": [
              "     months_as_customer  ...  authorities_contacted_Police\n",
              "65                  254  ...                             0\n",
              "244                  95  ...                             0\n",
              "595                  56  ...                             1\n",
              "873                 322  ...                             0\n",
              "631                 147  ...                             0\n",
              "\n",
              "[5 rows x 45 columns]"
            ]
          },
          "metadata": {
            "tags": []
          },
          "execution_count": 42
        }
      ]
    },
    {
      "cell_type": "code",
      "metadata": {
        "id": "yx28-mDTjADk",
        "colab_type": "code",
        "colab": {}
      },
      "source": [
        "num_df=train_x[['months_as_customer', 'policy_deductable', 'umbrella_limit',\n",
        "       'capital-gains', 'capital-loss', 'incident_hour_of_the_day',\n",
        "       'number_of_vehicles_involved', 'bodily_injuries', 'witnesses', 'injury_claim', 'property_claim',\n",
        "       'vehicle_claim']]"
      ],
      "execution_count": 43,
      "outputs": []
    },
    {
      "cell_type": "code",
      "metadata": {
        "id": "ba-tZGrzjADo",
        "colab_type": "code",
        "colab": {
          "base_uri": "https://localhost:8080/",
          "height": 101
        },
        "outputId": "360840f5-74ec-4d5f-d0ad-0c4a37805434"
      },
      "source": [
        "num_df.columns"
      ],
      "execution_count": 44,
      "outputs": [
        {
          "output_type": "execute_result",
          "data": {
            "text/plain": [
              "Index(['months_as_customer', 'policy_deductable', 'umbrella_limit',\n",
              "       'capital-gains', 'capital-loss', 'incident_hour_of_the_day',\n",
              "       'number_of_vehicles_involved', 'bodily_injuries', 'witnesses',\n",
              "       'injury_claim', 'property_claim', 'vehicle_claim'],\n",
              "      dtype='object')"
            ]
          },
          "metadata": {
            "tags": []
          },
          "execution_count": 44
        }
      ]
    },
    {
      "cell_type": "code",
      "metadata": {
        "id": "cPv0RrD9jADq",
        "colab_type": "code",
        "colab": {
          "base_uri": "https://localhost:8080/",
          "height": 50
        },
        "outputId": "c40fbee4-1199-4dd3-bc57-25f1d50603d8"
      },
      "source": [
        "print(train_x.shape)\n",
        "print(num_df.shape)"
      ],
      "execution_count": 45,
      "outputs": [
        {
          "output_type": "stream",
          "text": [
            "(750, 45)\n",
            "(750, 12)\n"
          ],
          "name": "stdout"
        }
      ]
    },
    {
      "cell_type": "code",
      "metadata": {
        "id": "PKOLCrO-jADt",
        "colab_type": "code",
        "colab": {}
      },
      "source": [
        "# Scaling the numeric values in the dataset\n",
        "\n",
        "from sklearn.preprocessing import StandardScaler\n",
        "scaler=StandardScaler()"
      ],
      "execution_count": 46,
      "outputs": []
    },
    {
      "cell_type": "code",
      "metadata": {
        "id": "nTLth_dmjADw",
        "colab_type": "code",
        "colab": {
          "base_uri": "https://localhost:8080/",
          "height": 34
        },
        "outputId": "aa874ad3-e90d-4a0f-8a78-713223b18eee"
      },
      "source": [
        "scaled_data=scaler.fit_transform(num_df)\n",
        "scaled_num_df= pd.DataFrame(data=scaled_data, columns=num_df.columns,index=train_x.index)\n",
        "scaled_num_df.shape"
      ],
      "execution_count": 47,
      "outputs": [
        {
          "output_type": "execute_result",
          "data": {
            "text/plain": [
              "(750, 12)"
            ]
          },
          "metadata": {
            "tags": []
          },
          "execution_count": 47
        }
      ]
    },
    {
      "cell_type": "code",
      "metadata": {
        "id": "3KAr6DCwjADy",
        "colab_type": "code",
        "colab": {
          "base_uri": "https://localhost:8080/",
          "height": 235
        },
        "outputId": "42872797-78b9-41e4-f81b-d73c153f4176"
      },
      "source": [
        "scaled_num_df.isna().sum()"
      ],
      "execution_count": 48,
      "outputs": [
        {
          "output_type": "execute_result",
          "data": {
            "text/plain": [
              "months_as_customer             0\n",
              "policy_deductable              0\n",
              "umbrella_limit                 0\n",
              "capital-gains                  0\n",
              "capital-loss                   0\n",
              "incident_hour_of_the_day       0\n",
              "number_of_vehicles_involved    0\n",
              "bodily_injuries                0\n",
              "witnesses                      0\n",
              "injury_claim                   0\n",
              "property_claim                 0\n",
              "vehicle_claim                  0\n",
              "dtype: int64"
            ]
          },
          "metadata": {
            "tags": []
          },
          "execution_count": 48
        }
      ]
    },
    {
      "cell_type": "code",
      "metadata": {
        "id": "Qp3fNBb3jAD1",
        "colab_type": "code",
        "colab": {
          "base_uri": "https://localhost:8080/",
          "height": 101
        },
        "outputId": "9b87cbbc-bf5e-424e-e842-7307340175e9"
      },
      "source": [
        "train_x.drop(columns=scaled_num_df.columns, inplace=True)"
      ],
      "execution_count": 49,
      "outputs": [
        {
          "output_type": "stream",
          "text": [
            "/usr/local/lib/python3.6/dist-packages/pandas/core/frame.py:3997: SettingWithCopyWarning: \n",
            "A value is trying to be set on a copy of a slice from a DataFrame\n",
            "\n",
            "See the caveats in the documentation: https://pandas.pydata.org/pandas-docs/stable/user_guide/indexing.html#returning-a-view-versus-a-copy\n",
            "  errors=errors,\n"
          ],
          "name": "stderr"
        }
      ]
    },
    {
      "cell_type": "code",
      "metadata": {
        "id": "FKldiA3ojAD3",
        "colab_type": "code",
        "colab": {
          "base_uri": "https://localhost:8080/",
          "height": 34
        },
        "outputId": "1d4d0718-8b9f-4a97-ad62-e5ec2297d33e"
      },
      "source": [
        "train_x.shape"
      ],
      "execution_count": 50,
      "outputs": [
        {
          "output_type": "execute_result",
          "data": {
            "text/plain": [
              "(750, 33)"
            ]
          },
          "metadata": {
            "tags": []
          },
          "execution_count": 50
        }
      ]
    },
    {
      "cell_type": "code",
      "metadata": {
        "id": "aCaepF1GjAD5",
        "colab_type": "code",
        "colab": {
          "base_uri": "https://localhost:8080/",
          "height": 232
        },
        "outputId": "ef3b6772-d6f0-419b-b31f-80b3fa403fc9"
      },
      "source": [
        "train_x.head()"
      ],
      "execution_count": 51,
      "outputs": [
        {
          "output_type": "execute_result",
          "data": {
            "text/html": [
              "<div>\n",
              "<style scoped>\n",
              "    .dataframe tbody tr th:only-of-type {\n",
              "        vertical-align: middle;\n",
              "    }\n",
              "\n",
              "    .dataframe tbody tr th {\n",
              "        vertical-align: top;\n",
              "    }\n",
              "\n",
              "    .dataframe thead th {\n",
              "        text-align: right;\n",
              "    }\n",
              "</style>\n",
              "<table border=\"1\" class=\"dataframe\">\n",
              "  <thead>\n",
              "    <tr style=\"text-align: right;\">\n",
              "      <th></th>\n",
              "      <th>policy_csl</th>\n",
              "      <th>insured_sex</th>\n",
              "      <th>insured_education_level</th>\n",
              "      <th>incident_severity</th>\n",
              "      <th>property_damage</th>\n",
              "      <th>police_report_available</th>\n",
              "      <th>insured_occupation_armed-forces</th>\n",
              "      <th>insured_occupation_craft-repair</th>\n",
              "      <th>insured_occupation_exec-managerial</th>\n",
              "      <th>insured_occupation_farming-fishing</th>\n",
              "      <th>insured_occupation_handlers-cleaners</th>\n",
              "      <th>insured_occupation_machine-op-inspct</th>\n",
              "      <th>insured_occupation_other-service</th>\n",
              "      <th>insured_occupation_priv-house-serv</th>\n",
              "      <th>insured_occupation_prof-specialty</th>\n",
              "      <th>insured_occupation_protective-serv</th>\n",
              "      <th>insured_occupation_sales</th>\n",
              "      <th>insured_occupation_tech-support</th>\n",
              "      <th>insured_occupation_transport-moving</th>\n",
              "      <th>insured_relationship_not-in-family</th>\n",
              "      <th>insured_relationship_other-relative</th>\n",
              "      <th>insured_relationship_own-child</th>\n",
              "      <th>insured_relationship_unmarried</th>\n",
              "      <th>insured_relationship_wife</th>\n",
              "      <th>incident_type_Parked Car</th>\n",
              "      <th>incident_type_Single Vehicle Collision</th>\n",
              "      <th>incident_type_Vehicle Theft</th>\n",
              "      <th>collision_type_Rear Collision</th>\n",
              "      <th>collision_type_Side Collision</th>\n",
              "      <th>authorities_contacted_Fire</th>\n",
              "      <th>authorities_contacted_None</th>\n",
              "      <th>authorities_contacted_Other</th>\n",
              "      <th>authorities_contacted_Police</th>\n",
              "    </tr>\n",
              "  </thead>\n",
              "  <tbody>\n",
              "    <tr>\n",
              "      <th>65</th>\n",
              "      <td>1.0</td>\n",
              "      <td>0</td>\n",
              "      <td>6</td>\n",
              "      <td>2</td>\n",
              "      <td>1</td>\n",
              "      <td>0</td>\n",
              "      <td>0</td>\n",
              "      <td>0</td>\n",
              "      <td>1</td>\n",
              "      <td>0</td>\n",
              "      <td>0</td>\n",
              "      <td>0</td>\n",
              "      <td>0</td>\n",
              "      <td>0</td>\n",
              "      <td>0</td>\n",
              "      <td>0</td>\n",
              "      <td>0</td>\n",
              "      <td>0</td>\n",
              "      <td>0</td>\n",
              "      <td>0</td>\n",
              "      <td>1</td>\n",
              "      <td>0</td>\n",
              "      <td>0</td>\n",
              "      <td>0</td>\n",
              "      <td>0</td>\n",
              "      <td>0</td>\n",
              "      <td>0</td>\n",
              "      <td>0</td>\n",
              "      <td>0</td>\n",
              "      <td>0</td>\n",
              "      <td>0</td>\n",
              "      <td>0</td>\n",
              "      <td>0</td>\n",
              "    </tr>\n",
              "    <tr>\n",
              "      <th>244</th>\n",
              "      <td>2.5</td>\n",
              "      <td>1</td>\n",
              "      <td>5</td>\n",
              "      <td>1</td>\n",
              "      <td>1</td>\n",
              "      <td>0</td>\n",
              "      <td>1</td>\n",
              "      <td>0</td>\n",
              "      <td>0</td>\n",
              "      <td>0</td>\n",
              "      <td>0</td>\n",
              "      <td>0</td>\n",
              "      <td>0</td>\n",
              "      <td>0</td>\n",
              "      <td>0</td>\n",
              "      <td>0</td>\n",
              "      <td>0</td>\n",
              "      <td>0</td>\n",
              "      <td>0</td>\n",
              "      <td>0</td>\n",
              "      <td>1</td>\n",
              "      <td>0</td>\n",
              "      <td>0</td>\n",
              "      <td>0</td>\n",
              "      <td>0</td>\n",
              "      <td>0</td>\n",
              "      <td>1</td>\n",
              "      <td>1</td>\n",
              "      <td>0</td>\n",
              "      <td>0</td>\n",
              "      <td>1</td>\n",
              "      <td>0</td>\n",
              "      <td>0</td>\n",
              "    </tr>\n",
              "    <tr>\n",
              "      <th>595</th>\n",
              "      <td>1.0</td>\n",
              "      <td>1</td>\n",
              "      <td>1</td>\n",
              "      <td>3</td>\n",
              "      <td>1</td>\n",
              "      <td>1</td>\n",
              "      <td>0</td>\n",
              "      <td>0</td>\n",
              "      <td>0</td>\n",
              "      <td>1</td>\n",
              "      <td>0</td>\n",
              "      <td>0</td>\n",
              "      <td>0</td>\n",
              "      <td>0</td>\n",
              "      <td>0</td>\n",
              "      <td>0</td>\n",
              "      <td>0</td>\n",
              "      <td>0</td>\n",
              "      <td>0</td>\n",
              "      <td>0</td>\n",
              "      <td>0</td>\n",
              "      <td>1</td>\n",
              "      <td>0</td>\n",
              "      <td>0</td>\n",
              "      <td>0</td>\n",
              "      <td>1</td>\n",
              "      <td>0</td>\n",
              "      <td>1</td>\n",
              "      <td>0</td>\n",
              "      <td>0</td>\n",
              "      <td>0</td>\n",
              "      <td>0</td>\n",
              "      <td>1</td>\n",
              "    </tr>\n",
              "    <tr>\n",
              "      <th>873</th>\n",
              "      <td>2.5</td>\n",
              "      <td>0</td>\n",
              "      <td>7</td>\n",
              "      <td>3</td>\n",
              "      <td>0</td>\n",
              "      <td>1</td>\n",
              "      <td>1</td>\n",
              "      <td>0</td>\n",
              "      <td>0</td>\n",
              "      <td>0</td>\n",
              "      <td>0</td>\n",
              "      <td>0</td>\n",
              "      <td>0</td>\n",
              "      <td>0</td>\n",
              "      <td>0</td>\n",
              "      <td>0</td>\n",
              "      <td>0</td>\n",
              "      <td>0</td>\n",
              "      <td>0</td>\n",
              "      <td>0</td>\n",
              "      <td>0</td>\n",
              "      <td>1</td>\n",
              "      <td>0</td>\n",
              "      <td>0</td>\n",
              "      <td>0</td>\n",
              "      <td>1</td>\n",
              "      <td>0</td>\n",
              "      <td>1</td>\n",
              "      <td>0</td>\n",
              "      <td>0</td>\n",
              "      <td>0</td>\n",
              "      <td>0</td>\n",
              "      <td>0</td>\n",
              "    </tr>\n",
              "    <tr>\n",
              "      <th>631</th>\n",
              "      <td>5.0</td>\n",
              "      <td>0</td>\n",
              "      <td>5</td>\n",
              "      <td>4</td>\n",
              "      <td>0</td>\n",
              "      <td>0</td>\n",
              "      <td>0</td>\n",
              "      <td>0</td>\n",
              "      <td>0</td>\n",
              "      <td>0</td>\n",
              "      <td>0</td>\n",
              "      <td>0</td>\n",
              "      <td>0</td>\n",
              "      <td>0</td>\n",
              "      <td>1</td>\n",
              "      <td>0</td>\n",
              "      <td>0</td>\n",
              "      <td>0</td>\n",
              "      <td>0</td>\n",
              "      <td>0</td>\n",
              "      <td>0</td>\n",
              "      <td>0</td>\n",
              "      <td>0</td>\n",
              "      <td>0</td>\n",
              "      <td>0</td>\n",
              "      <td>0</td>\n",
              "      <td>0</td>\n",
              "      <td>1</td>\n",
              "      <td>0</td>\n",
              "      <td>0</td>\n",
              "      <td>0</td>\n",
              "      <td>1</td>\n",
              "      <td>0</td>\n",
              "    </tr>\n",
              "  </tbody>\n",
              "</table>\n",
              "</div>"
            ],
            "text/plain": [
              "     policy_csl  ...  authorities_contacted_Police\n",
              "65          1.0  ...                             0\n",
              "244         2.5  ...                             0\n",
              "595         1.0  ...                             1\n",
              "873         2.5  ...                             0\n",
              "631         5.0  ...                             0\n",
              "\n",
              "[5 rows x 33 columns]"
            ]
          },
          "metadata": {
            "tags": []
          },
          "execution_count": 51
        }
      ]
    },
    {
      "cell_type": "code",
      "metadata": {
        "id": "T9dzgcc8jAD-",
        "colab_type": "code",
        "colab": {}
      },
      "source": [
        "train_x=pd.concat([scaled_num_df,train_x],axis=1)"
      ],
      "execution_count": 52,
      "outputs": []
    },
    {
      "cell_type": "code",
      "metadata": {
        "id": "3VAr8pb8jAEE",
        "colab_type": "code",
        "colab": {}
      },
      "source": [
        "#train_x[:20]"
      ],
      "execution_count": 53,
      "outputs": []
    },
    {
      "cell_type": "code",
      "metadata": {
        "id": "3nXtQZsvjAEH",
        "colab_type": "code",
        "colab": {}
      },
      "source": [
        "#train_x.isna().sum()"
      ],
      "execution_count": 54,
      "outputs": []
    },
    {
      "cell_type": "code",
      "metadata": {
        "id": "bKv7fJ3CjAEJ",
        "colab_type": "code",
        "colab": {}
      },
      "source": [
        "# first using the Support vector classifier for model training\n",
        "from sklearn.svm import SVC\n",
        "sv_classifier=SVC()"
      ],
      "execution_count": 55,
      "outputs": []
    },
    {
      "cell_type": "code",
      "metadata": {
        "id": "IYIfmNtpjAEL",
        "colab_type": "code",
        "colab": {}
      },
      "source": [
        "y_pred = sv_classifier.fit(train_x, train_y).predict(test_x)"
      ],
      "execution_count": 56,
      "outputs": []
    },
    {
      "cell_type": "code",
      "metadata": {
        "id": "VDlacBtPjAEN",
        "colab_type": "code",
        "colab": {}
      },
      "source": [
        "from sklearn.metrics import accuracy_score"
      ],
      "execution_count": 57,
      "outputs": []
    },
    {
      "cell_type": "code",
      "metadata": {
        "id": "_LsqAhvRjAEP",
        "colab_type": "code",
        "colab": {
          "base_uri": "https://localhost:8080/",
          "height": 34
        },
        "outputId": "5d0328ac-dab1-4169-d186-7d934d5f0bda"
      },
      "source": [
        "sc=accuracy_score(test_y,y_pred)\n",
        "sc"
      ],
      "execution_count": 58,
      "outputs": [
        {
          "output_type": "execute_result",
          "data": {
            "text/plain": [
              "0.728"
            ]
          },
          "metadata": {
            "tags": []
          },
          "execution_count": 58
        }
      ]
    },
    {
      "cell_type": "code",
      "metadata": {
        "id": "ELNVMQOFjAEU",
        "colab_type": "code",
        "colab": {}
      },
      "source": [
        "from sklearn.model_selection import GridSearchCV"
      ],
      "execution_count": 59,
      "outputs": []
    },
    {
      "cell_type": "code",
      "metadata": {
        "id": "SuaeIgbrjAEV",
        "colab_type": "code",
        "colab": {}
      },
      "source": [
        "param_grid = {\"kernel\": ['rbf','sigmoid'],\n",
        "             \"C\":[0.1,0.5,1.0],\n",
        "             \"random_state\":[0,100,200,300]}"
      ],
      "execution_count": 60,
      "outputs": []
    },
    {
      "cell_type": "code",
      "metadata": {
        "id": "EKEYmKvyjAEY",
        "colab_type": "code",
        "colab": {}
      },
      "source": [
        "grid = GridSearchCV(estimator=sv_classifier, param_grid=param_grid, cv=5,  verbose=3)"
      ],
      "execution_count": 61,
      "outputs": []
    },
    {
      "cell_type": "code",
      "metadata": {
        "id": "hepVwxkAjAEa",
        "colab_type": "code",
        "colab": {
          "base_uri": "https://localhost:8080/",
          "height": 1000
        },
        "outputId": "7135ac56-3ea3-46ee-a9e7-4b1a769c0e77"
      },
      "source": [
        "grid.fit(train_x, train_y)"
      ],
      "execution_count": 62,
      "outputs": [
        {
          "output_type": "stream",
          "text": [
            "Fitting 5 folds for each of 24 candidates, totalling 120 fits\n",
            "[CV] C=0.1, kernel=rbf, random_state=0 ...............................\n",
            "[CV] ... C=0.1, kernel=rbf, random_state=0, score=0.760, total=   0.0s\n",
            "[CV] C=0.1, kernel=rbf, random_state=0 ...............................\n",
            "[CV] ... C=0.1, kernel=rbf, random_state=0, score=0.760, total=   0.0s\n",
            "[CV] C=0.1, kernel=rbf, random_state=0 ...............................\n",
            "[CV] ... C=0.1, kernel=rbf, random_state=0, score=0.760, total=   0.0s\n",
            "[CV] C=0.1, kernel=rbf, random_state=0 ...............................\n",
            "[CV] ... C=0.1, kernel=rbf, random_state=0, score=0.760, total=   0.0s\n",
            "[CV] C=0.1, kernel=rbf, random_state=0 ...............................\n"
          ],
          "name": "stdout"
        },
        {
          "output_type": "stream",
          "text": [
            "[Parallel(n_jobs=1)]: Using backend SequentialBackend with 1 concurrent workers.\n",
            "[Parallel(n_jobs=1)]: Done   1 out of   1 | elapsed:    0.0s remaining:    0.0s\n",
            "[Parallel(n_jobs=1)]: Done   2 out of   2 | elapsed:    0.1s remaining:    0.0s\n"
          ],
          "name": "stderr"
        },
        {
          "output_type": "stream",
          "text": [
            "[CV] ... C=0.1, kernel=rbf, random_state=0, score=0.767, total=   0.0s\n",
            "[CV] C=0.1, kernel=rbf, random_state=100 .............................\n",
            "[CV] . C=0.1, kernel=rbf, random_state=100, score=0.760, total=   0.0s\n",
            "[CV] C=0.1, kernel=rbf, random_state=100 .............................\n",
            "[CV] . C=0.1, kernel=rbf, random_state=100, score=0.760, total=   0.0s\n",
            "[CV] C=0.1, kernel=rbf, random_state=100 .............................\n",
            "[CV] . C=0.1, kernel=rbf, random_state=100, score=0.760, total=   0.0s\n",
            "[CV] C=0.1, kernel=rbf, random_state=100 .............................\n",
            "[CV] . C=0.1, kernel=rbf, random_state=100, score=0.760, total=   0.0s\n",
            "[CV] C=0.1, kernel=rbf, random_state=100 .............................\n",
            "[CV] . C=0.1, kernel=rbf, random_state=100, score=0.767, total=   0.0s\n",
            "[CV] C=0.1, kernel=rbf, random_state=200 .............................\n",
            "[CV] . C=0.1, kernel=rbf, random_state=200, score=0.760, total=   0.0s\n",
            "[CV] C=0.1, kernel=rbf, random_state=200 .............................\n",
            "[CV] . C=0.1, kernel=rbf, random_state=200, score=0.760, total=   0.0s\n",
            "[CV] C=0.1, kernel=rbf, random_state=200 .............................\n",
            "[CV] . C=0.1, kernel=rbf, random_state=200, score=0.760, total=   0.0s\n",
            "[CV] C=0.1, kernel=rbf, random_state=200 .............................\n",
            "[CV] . C=0.1, kernel=rbf, random_state=200, score=0.760, total=   0.0s\n",
            "[CV] C=0.1, kernel=rbf, random_state=200 .............................\n",
            "[CV] . C=0.1, kernel=rbf, random_state=200, score=0.767, total=   0.0s\n",
            "[CV] C=0.1, kernel=rbf, random_state=300 .............................\n",
            "[CV] . C=0.1, kernel=rbf, random_state=300, score=0.760, total=   0.0s\n",
            "[CV] C=0.1, kernel=rbf, random_state=300 .............................\n",
            "[CV] . C=0.1, kernel=rbf, random_state=300, score=0.760, total=   0.0s\n",
            "[CV] C=0.1, kernel=rbf, random_state=300 .............................\n",
            "[CV] . C=0.1, kernel=rbf, random_state=300, score=0.760, total=   0.0s\n",
            "[CV] C=0.1, kernel=rbf, random_state=300 .............................\n",
            "[CV] . C=0.1, kernel=rbf, random_state=300, score=0.760, total=   0.0s\n",
            "[CV] C=0.1, kernel=rbf, random_state=300 .............................\n",
            "[CV] . C=0.1, kernel=rbf, random_state=300, score=0.767, total=   0.0s\n",
            "[CV] C=0.1, kernel=sigmoid, random_state=0 ...........................\n",
            "[CV]  C=0.1, kernel=sigmoid, random_state=0, score=0.760, total=   0.0s\n",
            "[CV] C=0.1, kernel=sigmoid, random_state=0 ...........................\n",
            "[CV]  C=0.1, kernel=sigmoid, random_state=0, score=0.760, total=   0.0s\n",
            "[CV] C=0.1, kernel=sigmoid, random_state=0 ...........................\n",
            "[CV]  C=0.1, kernel=sigmoid, random_state=0, score=0.760, total=   0.0s\n",
            "[CV] C=0.1, kernel=sigmoid, random_state=0 ...........................\n",
            "[CV]  C=0.1, kernel=sigmoid, random_state=0, score=0.760, total=   0.0s\n",
            "[CV] C=0.1, kernel=sigmoid, random_state=0 ...........................\n",
            "[CV]  C=0.1, kernel=sigmoid, random_state=0, score=0.767, total=   0.0s\n",
            "[CV] C=0.1, kernel=sigmoid, random_state=100 .........................\n",
            "[CV]  C=0.1, kernel=sigmoid, random_state=100, score=0.760, total=   0.0s\n",
            "[CV] C=0.1, kernel=sigmoid, random_state=100 .........................\n",
            "[CV]  C=0.1, kernel=sigmoid, random_state=100, score=0.760, total=   0.0s\n",
            "[CV] C=0.1, kernel=sigmoid, random_state=100 .........................\n",
            "[CV]  C=0.1, kernel=sigmoid, random_state=100, score=0.760, total=   0.0s\n",
            "[CV] C=0.1, kernel=sigmoid, random_state=100 .........................\n",
            "[CV]  C=0.1, kernel=sigmoid, random_state=100, score=0.760, total=   0.0s\n",
            "[CV] C=0.1, kernel=sigmoid, random_state=100 .........................\n",
            "[CV]  C=0.1, kernel=sigmoid, random_state=100, score=0.767, total=   0.0s\n",
            "[CV] C=0.1, kernel=sigmoid, random_state=200 .........................\n",
            "[CV]  C=0.1, kernel=sigmoid, random_state=200, score=0.760, total=   0.0s\n",
            "[CV] C=0.1, kernel=sigmoid, random_state=200 .........................\n",
            "[CV]  C=0.1, kernel=sigmoid, random_state=200, score=0.760, total=   0.0s\n",
            "[CV] C=0.1, kernel=sigmoid, random_state=200 .........................\n",
            "[CV]  C=0.1, kernel=sigmoid, random_state=200, score=0.760, total=   0.0s\n",
            "[CV] C=0.1, kernel=sigmoid, random_state=200 .........................\n",
            "[CV]  C=0.1, kernel=sigmoid, random_state=200, score=0.760, total=   0.0s\n",
            "[CV] C=0.1, kernel=sigmoid, random_state=200 .........................\n",
            "[CV]  C=0.1, kernel=sigmoid, random_state=200, score=0.767, total=   0.0s\n",
            "[CV] C=0.1, kernel=sigmoid, random_state=300 .........................\n",
            "[CV]  C=0.1, kernel=sigmoid, random_state=300, score=0.760, total=   0.0s\n",
            "[CV] C=0.1, kernel=sigmoid, random_state=300 .........................\n",
            "[CV]  C=0.1, kernel=sigmoid, random_state=300, score=0.760, total=   0.0s\n",
            "[CV] C=0.1, kernel=sigmoid, random_state=300 .........................\n",
            "[CV]  C=0.1, kernel=sigmoid, random_state=300, score=0.760, total=   0.0s\n",
            "[CV] C=0.1, kernel=sigmoid, random_state=300 .........................\n",
            "[CV]  C=0.1, kernel=sigmoid, random_state=300, score=0.760, total=   0.0s\n",
            "[CV] C=0.1, kernel=sigmoid, random_state=300 .........................\n",
            "[CV]  C=0.1, kernel=sigmoid, random_state=300, score=0.767, total=   0.0s\n",
            "[CV] C=0.5, kernel=rbf, random_state=0 ...............................\n",
            "[CV] ... C=0.5, kernel=rbf, random_state=0, score=0.760, total=   0.0s\n",
            "[CV] C=0.5, kernel=rbf, random_state=0 ...............................\n",
            "[CV] ... C=0.5, kernel=rbf, random_state=0, score=0.760, total=   0.0s\n",
            "[CV] C=0.5, kernel=rbf, random_state=0 ...............................\n",
            "[CV] ... C=0.5, kernel=rbf, random_state=0, score=0.760, total=   0.0s\n",
            "[CV] C=0.5, kernel=rbf, random_state=0 ...............................\n",
            "[CV] ... C=0.5, kernel=rbf, random_state=0, score=0.760, total=   0.0s\n",
            "[CV] C=0.5, kernel=rbf, random_state=0 ...............................\n",
            "[CV] ... C=0.5, kernel=rbf, random_state=0, score=0.767, total=   0.0s\n",
            "[CV] C=0.5, kernel=rbf, random_state=100 .............................\n",
            "[CV] . C=0.5, kernel=rbf, random_state=100, score=0.760, total=   0.0s\n",
            "[CV] C=0.5, kernel=rbf, random_state=100 .............................\n",
            "[CV] . C=0.5, kernel=rbf, random_state=100, score=0.760, total=   0.0s\n",
            "[CV] C=0.5, kernel=rbf, random_state=100 .............................\n",
            "[CV] . C=0.5, kernel=rbf, random_state=100, score=0.760, total=   0.0s\n",
            "[CV] C=0.5, kernel=rbf, random_state=100 .............................\n",
            "[CV] . C=0.5, kernel=rbf, random_state=100, score=0.760, total=   0.0s\n",
            "[CV] C=0.5, kernel=rbf, random_state=100 .............................\n",
            "[CV] . C=0.5, kernel=rbf, random_state=100, score=0.767, total=   0.0s\n",
            "[CV] C=0.5, kernel=rbf, random_state=200 .............................\n",
            "[CV] . C=0.5, kernel=rbf, random_state=200, score=0.760, total=   0.0s\n",
            "[CV] C=0.5, kernel=rbf, random_state=200 .............................\n",
            "[CV] . C=0.5, kernel=rbf, random_state=200, score=0.760, total=   0.0s\n",
            "[CV] C=0.5, kernel=rbf, random_state=200 .............................\n",
            "[CV] . C=0.5, kernel=rbf, random_state=200, score=0.760, total=   0.0s\n",
            "[CV] C=0.5, kernel=rbf, random_state=200 .............................\n",
            "[CV] . C=0.5, kernel=rbf, random_state=200, score=0.760, total=   0.0s\n",
            "[CV] C=0.5, kernel=rbf, random_state=200 .............................\n",
            "[CV] . C=0.5, kernel=rbf, random_state=200, score=0.767, total=   0.0s\n",
            "[CV] C=0.5, kernel=rbf, random_state=300 .............................\n",
            "[CV] . C=0.5, kernel=rbf, random_state=300, score=0.760, total=   0.0s\n",
            "[CV] C=0.5, kernel=rbf, random_state=300 .............................\n",
            "[CV] . C=0.5, kernel=rbf, random_state=300, score=0.760, total=   0.0s\n",
            "[CV] C=0.5, kernel=rbf, random_state=300 .............................\n",
            "[CV] . C=0.5, kernel=rbf, random_state=300, score=0.760, total=   0.0s\n",
            "[CV] C=0.5, kernel=rbf, random_state=300 .............................\n",
            "[CV] . C=0.5, kernel=rbf, random_state=300, score=0.760, total=   0.0s\n",
            "[CV] C=0.5, kernel=rbf, random_state=300 .............................\n",
            "[CV] . C=0.5, kernel=rbf, random_state=300, score=0.767, total=   0.0s\n",
            "[CV] C=0.5, kernel=sigmoid, random_state=0 ...........................\n",
            "[CV]  C=0.5, kernel=sigmoid, random_state=0, score=0.760, total=   0.0s\n",
            "[CV] C=0.5, kernel=sigmoid, random_state=0 ...........................\n",
            "[CV]  C=0.5, kernel=sigmoid, random_state=0, score=0.760, total=   0.0s\n",
            "[CV] C=0.5, kernel=sigmoid, random_state=0 ...........................\n",
            "[CV]  C=0.5, kernel=sigmoid, random_state=0, score=0.753, total=   0.0s\n",
            "[CV] C=0.5, kernel=sigmoid, random_state=0 ...........................\n",
            "[CV]  C=0.5, kernel=sigmoid, random_state=0, score=0.753, total=   0.0s\n",
            "[CV] C=0.5, kernel=sigmoid, random_state=0 ...........................\n",
            "[CV]  C=0.5, kernel=sigmoid, random_state=0, score=0.767, total=   0.0s\n",
            "[CV] C=0.5, kernel=sigmoid, random_state=100 .........................\n",
            "[CV]  C=0.5, kernel=sigmoid, random_state=100, score=0.760, total=   0.0s\n",
            "[CV] C=0.5, kernel=sigmoid, random_state=100 .........................\n",
            "[CV]  C=0.5, kernel=sigmoid, random_state=100, score=0.760, total=   0.0s\n",
            "[CV] C=0.5, kernel=sigmoid, random_state=100 .........................\n",
            "[CV]  C=0.5, kernel=sigmoid, random_state=100, score=0.753, total=   0.0s\n",
            "[CV] C=0.5, kernel=sigmoid, random_state=100 .........................\n",
            "[CV]  C=0.5, kernel=sigmoid, random_state=100, score=0.753, total=   0.0s\n",
            "[CV] C=0.5, kernel=sigmoid, random_state=100 .........................\n",
            "[CV]  C=0.5, kernel=sigmoid, random_state=100, score=0.767, total=   0.0s\n",
            "[CV] C=0.5, kernel=sigmoid, random_state=200 .........................\n",
            "[CV]  C=0.5, kernel=sigmoid, random_state=200, score=0.760, total=   0.0s\n",
            "[CV] C=0.5, kernel=sigmoid, random_state=200 .........................\n",
            "[CV]  C=0.5, kernel=sigmoid, random_state=200, score=0.760, total=   0.0s\n",
            "[CV] C=0.5, kernel=sigmoid, random_state=200 .........................\n",
            "[CV]  C=0.5, kernel=sigmoid, random_state=200, score=0.753, total=   0.0s\n",
            "[CV] C=0.5, kernel=sigmoid, random_state=200 .........................\n",
            "[CV]  C=0.5, kernel=sigmoid, random_state=200, score=0.753, total=   0.0s\n",
            "[CV] C=0.5, kernel=sigmoid, random_state=200 .........................\n",
            "[CV]  C=0.5, kernel=sigmoid, random_state=200, score=0.767, total=   0.0s\n",
            "[CV] C=0.5, kernel=sigmoid, random_state=300 .........................\n",
            "[CV]  C=0.5, kernel=sigmoid, random_state=300, score=0.760, total=   0.0s\n",
            "[CV] C=0.5, kernel=sigmoid, random_state=300 .........................\n",
            "[CV]  C=0.5, kernel=sigmoid, random_state=300, score=0.760, total=   0.0s\n",
            "[CV] C=0.5, kernel=sigmoid, random_state=300 .........................\n",
            "[CV]  C=0.5, kernel=sigmoid, random_state=300, score=0.753, total=   0.0s\n",
            "[CV] C=0.5, kernel=sigmoid, random_state=300 .........................\n",
            "[CV]  C=0.5, kernel=sigmoid, random_state=300, score=0.753, total=   0.0s\n",
            "[CV] C=0.5, kernel=sigmoid, random_state=300 .........................\n",
            "[CV]  C=0.5, kernel=sigmoid, random_state=300, score=0.767, total=   0.0s\n",
            "[CV] C=1.0, kernel=rbf, random_state=0 ...............................\n",
            "[CV] ... C=1.0, kernel=rbf, random_state=0, score=0.760, total=   0.0s\n",
            "[CV] C=1.0, kernel=rbf, random_state=0 ...............................\n",
            "[CV] ... C=1.0, kernel=rbf, random_state=0, score=0.760, total=   0.0s\n",
            "[CV] C=1.0, kernel=rbf, random_state=0 ...............................\n",
            "[CV] ... C=1.0, kernel=rbf, random_state=0, score=0.760, total=   0.0s\n",
            "[CV] C=1.0, kernel=rbf, random_state=0 ...............................\n",
            "[CV] ... C=1.0, kernel=rbf, random_state=0, score=0.760, total=   0.0s\n",
            "[CV] C=1.0, kernel=rbf, random_state=0 ...............................\n",
            "[CV] ... C=1.0, kernel=rbf, random_state=0, score=0.767, total=   0.0s\n",
            "[CV] C=1.0, kernel=rbf, random_state=100 .............................\n",
            "[CV] . C=1.0, kernel=rbf, random_state=100, score=0.760, total=   0.0s\n",
            "[CV] C=1.0, kernel=rbf, random_state=100 .............................\n",
            "[CV] . C=1.0, kernel=rbf, random_state=100, score=0.760, total=   0.0s\n",
            "[CV] C=1.0, kernel=rbf, random_state=100 .............................\n",
            "[CV] . C=1.0, kernel=rbf, random_state=100, score=0.760, total=   0.1s\n",
            "[CV] C=1.0, kernel=rbf, random_state=100 .............................\n",
            "[CV] . C=1.0, kernel=rbf, random_state=100, score=0.760, total=   0.0s\n",
            "[CV] C=1.0, kernel=rbf, random_state=100 .............................\n",
            "[CV] . C=1.0, kernel=rbf, random_state=100, score=0.767, total=   0.0s\n",
            "[CV] C=1.0, kernel=rbf, random_state=200 .............................\n",
            "[CV] . C=1.0, kernel=rbf, random_state=200, score=0.760, total=   0.0s\n",
            "[CV] C=1.0, kernel=rbf, random_state=200 .............................\n",
            "[CV] . C=1.0, kernel=rbf, random_state=200, score=0.760, total=   0.0s\n",
            "[CV] C=1.0, kernel=rbf, random_state=200 .............................\n",
            "[CV] . C=1.0, kernel=rbf, random_state=200, score=0.760, total=   0.0s\n",
            "[CV] C=1.0, kernel=rbf, random_state=200 .............................\n",
            "[CV] . C=1.0, kernel=rbf, random_state=200, score=0.760, total=   0.0s\n",
            "[CV] C=1.0, kernel=rbf, random_state=200 .............................\n",
            "[CV] . C=1.0, kernel=rbf, random_state=200, score=0.767, total=   0.0s\n",
            "[CV] C=1.0, kernel=rbf, random_state=300 .............................\n",
            "[CV] . C=1.0, kernel=rbf, random_state=300, score=0.760, total=   0.0s\n",
            "[CV] C=1.0, kernel=rbf, random_state=300 .............................\n",
            "[CV] . C=1.0, kernel=rbf, random_state=300, score=0.760, total=   0.0s\n",
            "[CV] C=1.0, kernel=rbf, random_state=300 .............................\n",
            "[CV] . C=1.0, kernel=rbf, random_state=300, score=0.760, total=   0.0s\n",
            "[CV] C=1.0, kernel=rbf, random_state=300 .............................\n",
            "[CV] . C=1.0, kernel=rbf, random_state=300, score=0.760, total=   0.0s\n",
            "[CV] C=1.0, kernel=rbf, random_state=300 .............................\n",
            "[CV] . C=1.0, kernel=rbf, random_state=300, score=0.767, total=   0.0s\n",
            "[CV] C=1.0, kernel=sigmoid, random_state=0 ...........................\n",
            "[CV]  C=1.0, kernel=sigmoid, random_state=0, score=0.740, total=   0.0s\n",
            "[CV] C=1.0, kernel=sigmoid, random_state=0 ...........................\n",
            "[CV]  C=1.0, kernel=sigmoid, random_state=0, score=0.727, total=   0.0s\n",
            "[CV] C=1.0, kernel=sigmoid, random_state=0 ...........................\n",
            "[CV]  C=1.0, kernel=sigmoid, random_state=0, score=0.740, total=   0.0s\n",
            "[CV] C=1.0, kernel=sigmoid, random_state=0 ...........................\n",
            "[CV]  C=1.0, kernel=sigmoid, random_state=0, score=0.733, total=   0.0s\n",
            "[CV] C=1.0, kernel=sigmoid, random_state=0 ...........................\n",
            "[CV]  C=1.0, kernel=sigmoid, random_state=0, score=0.747, total=   0.0s\n",
            "[CV] C=1.0, kernel=sigmoid, random_state=100 .........................\n",
            "[CV]  C=1.0, kernel=sigmoid, random_state=100, score=0.740, total=   0.0s\n",
            "[CV] C=1.0, kernel=sigmoid, random_state=100 .........................\n",
            "[CV]  C=1.0, kernel=sigmoid, random_state=100, score=0.727, total=   0.0s\n",
            "[CV] C=1.0, kernel=sigmoid, random_state=100 .........................\n",
            "[CV]  C=1.0, kernel=sigmoid, random_state=100, score=0.740, total=   0.0s\n",
            "[CV] C=1.0, kernel=sigmoid, random_state=100 .........................\n",
            "[CV]  C=1.0, kernel=sigmoid, random_state=100, score=0.733, total=   0.0s\n",
            "[CV] C=1.0, kernel=sigmoid, random_state=100 .........................\n",
            "[CV]  C=1.0, kernel=sigmoid, random_state=100, score=0.747, total=   0.0s\n",
            "[CV] C=1.0, kernel=sigmoid, random_state=200 .........................\n",
            "[CV]  C=1.0, kernel=sigmoid, random_state=200, score=0.740, total=   0.0s\n",
            "[CV] C=1.0, kernel=sigmoid, random_state=200 .........................\n",
            "[CV]  C=1.0, kernel=sigmoid, random_state=200, score=0.727, total=   0.0s\n",
            "[CV] C=1.0, kernel=sigmoid, random_state=200 .........................\n",
            "[CV]  C=1.0, kernel=sigmoid, random_state=200, score=0.740, total=   0.0s\n",
            "[CV] C=1.0, kernel=sigmoid, random_state=200 .........................\n",
            "[CV]  C=1.0, kernel=sigmoid, random_state=200, score=0.733, total=   0.0s\n",
            "[CV] C=1.0, kernel=sigmoid, random_state=200 .........................\n",
            "[CV]  C=1.0, kernel=sigmoid, random_state=200, score=0.747, total=   0.0s\n",
            "[CV] C=1.0, kernel=sigmoid, random_state=300 .........................\n",
            "[CV]  C=1.0, kernel=sigmoid, random_state=300, score=0.740, total=   0.0s\n",
            "[CV] C=1.0, kernel=sigmoid, random_state=300 .........................\n",
            "[CV]  C=1.0, kernel=sigmoid, random_state=300, score=0.727, total=   0.0s\n",
            "[CV] C=1.0, kernel=sigmoid, random_state=300 .........................\n",
            "[CV]  C=1.0, kernel=sigmoid, random_state=300, score=0.740, total=   0.0s\n",
            "[CV] C=1.0, kernel=sigmoid, random_state=300 .........................\n",
            "[CV]  C=1.0, kernel=sigmoid, random_state=300, score=0.733, total=   0.0s\n",
            "[CV] C=1.0, kernel=sigmoid, random_state=300 .........................\n",
            "[CV]  C=1.0, kernel=sigmoid, random_state=300, score=0.747, total=   0.0s\n"
          ],
          "name": "stdout"
        },
        {
          "output_type": "stream",
          "text": [
            "[Parallel(n_jobs=1)]: Done 120 out of 120 | elapsed:    4.7s finished\n"
          ],
          "name": "stderr"
        },
        {
          "output_type": "execute_result",
          "data": {
            "text/plain": [
              "GridSearchCV(cv=5, error_score=nan,\n",
              "             estimator=SVC(C=1.0, break_ties=False, cache_size=200,\n",
              "                           class_weight=None, coef0=0.0,\n",
              "                           decision_function_shape='ovr', degree=3,\n",
              "                           gamma='scale', kernel='rbf', max_iter=-1,\n",
              "                           probability=False, random_state=None, shrinking=True,\n",
              "                           tol=0.001, verbose=False),\n",
              "             iid='deprecated', n_jobs=None,\n",
              "             param_grid={'C': [0.1, 0.5, 1.0], 'kernel': ['rbf', 'sigmoid'],\n",
              "                         'random_state': [0, 100, 200, 300]},\n",
              "             pre_dispatch='2*n_jobs', refit=True, return_train_score=False,\n",
              "             scoring=None, verbose=3)"
            ]
          },
          "metadata": {
            "tags": []
          },
          "execution_count": 62
        }
      ]
    },
    {
      "cell_type": "code",
      "metadata": {
        "id": "jScA1yPzjAEc",
        "colab_type": "code",
        "colab": {
          "base_uri": "https://localhost:8080/",
          "height": 84
        },
        "outputId": "23f2b9f1-67c7-4de5-c6d0-2a31fb4f1822"
      },
      "source": [
        "grid.best_estimator_"
      ],
      "execution_count": 63,
      "outputs": [
        {
          "output_type": "execute_result",
          "data": {
            "text/plain": [
              "SVC(C=0.1, break_ties=False, cache_size=200, class_weight=None, coef0=0.0,\n",
              "    decision_function_shape='ovr', degree=3, gamma='scale', kernel='rbf',\n",
              "    max_iter=-1, probability=False, random_state=0, shrinking=True, tol=0.001,\n",
              "    verbose=False)"
            ]
          },
          "metadata": {
            "tags": []
          },
          "execution_count": 63
        }
      ]
    },
    {
      "cell_type": "code",
      "metadata": {
        "id": "NPAagHYOjAEe",
        "colab_type": "code",
        "colab": {}
      },
      "source": [
        "from xgboost import XGBClassifier"
      ],
      "execution_count": 64,
      "outputs": []
    },
    {
      "cell_type": "code",
      "metadata": {
        "id": "HWcb65AQjAEf",
        "colab_type": "code",
        "colab": {}
      },
      "source": [
        "xgb=XGBClassifier()"
      ],
      "execution_count": 65,
      "outputs": []
    },
    {
      "cell_type": "code",
      "metadata": {
        "id": "VuXJGzYpjAEg",
        "colab_type": "code",
        "colab": {}
      },
      "source": [
        "y_pred = xgb.fit(train_x, train_y).predict(test_x)"
      ],
      "execution_count": 66,
      "outputs": []
    },
    {
      "cell_type": "code",
      "metadata": {
        "id": "_vP6ZXZhjAEi",
        "colab_type": "code",
        "colab": {
          "base_uri": "https://localhost:8080/",
          "height": 34
        },
        "outputId": "8e11fa4b-ca93-4264-845b-73aa6c1e7e98"
      },
      "source": [
        "ac2=accuracy_score(test_y,y_pred)\n",
        "ac2"
      ],
      "execution_count": 67,
      "outputs": [
        {
          "output_type": "execute_result",
          "data": {
            "text/plain": [
              "0.772"
            ]
          },
          "metadata": {
            "tags": []
          },
          "execution_count": 67
        }
      ]
    },
    {
      "cell_type": "code",
      "metadata": {
        "id": "AxwtBrKvjAEj",
        "colab_type": "code",
        "colab": {}
      },
      "source": [
        "param_grid = {\"n_estimators\": [10, 50, 100, 130], \"criterion\": ['gini', 'entropy'],\n",
        "                               \"max_depth\": range(2, 10, 1)}\n",
        "\n",
        "            #Creating an object of the Grid Search class\n",
        "grid = GridSearchCV(estimator=xgb, param_grid=param_grid, cv=5,  verbose=3,n_jobs=-1)"
      ],
      "execution_count": 68,
      "outputs": []
    },
    {
      "cell_type": "code",
      "metadata": {
        "id": "4Q14yra1jAEk",
        "colab_type": "code",
        "colab": {
          "base_uri": "https://localhost:8080/",
          "height": 386
        },
        "outputId": "32bc694f-70db-4f19-bcda-f2b0201bd607"
      },
      "source": [
        "#finding the best parameters\n",
        "grid.fit(train_x, train_y)"
      ],
      "execution_count": 69,
      "outputs": [
        {
          "output_type": "stream",
          "text": [
            "Fitting 5 folds for each of 64 candidates, totalling 320 fits\n"
          ],
          "name": "stdout"
        },
        {
          "output_type": "stream",
          "text": [
            "[Parallel(n_jobs=-1)]: Using backend LokyBackend with 2 concurrent workers.\n",
            "[Parallel(n_jobs=-1)]: Done  28 tasks      | elapsed:    2.9s\n",
            "[Parallel(n_jobs=-1)]: Done 218 tasks      | elapsed:   23.4s\n",
            "[Parallel(n_jobs=-1)]: Done 320 out of 320 | elapsed:   37.2s finished\n"
          ],
          "name": "stderr"
        },
        {
          "output_type": "execute_result",
          "data": {
            "text/plain": [
              "GridSearchCV(cv=5, error_score=nan,\n",
              "             estimator=XGBClassifier(base_score=0.5, booster='gbtree',\n",
              "                                     colsample_bylevel=1, colsample_bynode=1,\n",
              "                                     colsample_bytree=1, gamma=0,\n",
              "                                     learning_rate=0.1, max_delta_step=0,\n",
              "                                     max_depth=3, min_child_weight=1,\n",
              "                                     missing=None, n_estimators=100, n_jobs=1,\n",
              "                                     nthread=None, objective='binary:logistic',\n",
              "                                     random_state=0, reg_alpha=0, reg_lambda=1,\n",
              "                                     scale_pos_weight=1, seed=None, silent=None,\n",
              "                                     subsample=1, verbosity=1),\n",
              "             iid='deprecated', n_jobs=-1,\n",
              "             param_grid={'criterion': ['gini', 'entropy'],\n",
              "                         'max_depth': range(2, 10),\n",
              "                         'n_estimators': [10, 50, 100, 130]},\n",
              "             pre_dispatch='2*n_jobs', refit=True, return_train_score=False,\n",
              "             scoring=None, verbose=3)"
            ]
          },
          "metadata": {
            "tags": []
          },
          "execution_count": 69
        }
      ]
    },
    {
      "cell_type": "code",
      "metadata": {
        "id": "RtXJcsr6jAEl",
        "colab_type": "code",
        "colab": {
          "base_uri": "https://localhost:8080/",
          "height": 134
        },
        "outputId": "5b6cdfec-5f69-453e-ebb6-94e7f28df5e2"
      },
      "source": [
        "grid.best_estimator_"
      ],
      "execution_count": 70,
      "outputs": [
        {
          "output_type": "execute_result",
          "data": {
            "text/plain": [
              "XGBClassifier(base_score=0.5, booster='gbtree', colsample_bylevel=1,\n",
              "              colsample_bynode=1, colsample_bytree=1, criterion='gini', gamma=0,\n",
              "              learning_rate=0.1, max_delta_step=0, max_depth=2,\n",
              "              min_child_weight=1, missing=None, n_estimators=10, n_jobs=1,\n",
              "              nthread=None, objective='binary:logistic', random_state=0,\n",
              "              reg_alpha=0, reg_lambda=1, scale_pos_weight=1, seed=None,\n",
              "              silent=None, subsample=1, verbosity=1)"
            ]
          },
          "metadata": {
            "tags": []
          },
          "execution_count": 70
        }
      ]
    },
    {
      "cell_type": "code",
      "metadata": {
        "id": "4FNM_m69jAEn",
        "colab_type": "code",
        "colab": {}
      },
      "source": [
        ""
      ],
      "execution_count": null,
      "outputs": []
    }
  ]
}